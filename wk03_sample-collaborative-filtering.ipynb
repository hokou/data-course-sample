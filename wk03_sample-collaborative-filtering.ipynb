{
  "cells": [
    {
      "cell_type": "markdown",
      "metadata": {
        "id": "view-in-github",
        "colab_type": "text"
      },
      "source": [
        "<a href=\"https://colab.research.google.com/github/hokou/data-course-sample/blob/wk03/wk03_sample-collaborative-filtering.ipynb\" target=\"_parent\"><img src=\"https://colab.research.google.com/assets/colab-badge.svg\" alt=\"Open In Colab\"/></a>"
      ]
    },
    {
      "cell_type": "markdown",
      "id": "84de56a8",
      "metadata": {
        "id": "84de56a8"
      },
      "source": [
        "# Sample Code"
      ]
    },
    {
      "cell_type": "markdown",
      "id": "688675f5",
      "metadata": {
        "id": "688675f5"
      },
      "source": [
        "## 基礎建設"
      ]
    },
    {
      "cell_type": "code",
      "execution_count": 51,
      "id": "b32226db",
      "metadata": {
        "scrolled": true,
        "id": "b32226db"
      },
      "outputs": [],
      "source": [
        "import pandas as pd\n",
        "import gzip, json\n",
        "\n",
        "def parse(path):\n",
        "    g = gzip.open(path, 'rb')\n",
        "    for l in g:\n",
        "        yield json.loads(l)\n",
        "\n",
        "def getDF(path):\n",
        "    i = 0\n",
        "    df = {}\n",
        "    for d in parse(path):\n",
        "        df[i] = d\n",
        "        i += 1\n",
        "    return pd.DataFrame.from_dict(df, orient='index')"
      ]
    },
    {
      "cell_type": "markdown",
      "id": "84ff0f9d",
      "metadata": {
        "id": "84ff0f9d"
      },
      "source": [
        "## 載入資料"
      ]
    },
    {
      "cell_type": "code",
      "execution_count": 52,
      "id": "9402e9c7",
      "metadata": {
        "id": "9402e9c7",
        "colab": {
          "base_uri": "https://localhost:8080/"
        },
        "outputId": "fd164f2b-17d4-46cb-d6e3-213b7d54476b"
      },
      "outputs": [
        {
          "output_type": "stream",
          "name": "stdout",
          "text": [
            "--2022-01-09 14:01:45--  http://deepyeti.ucsd.edu/jianmo/amazon/categoryFilesSmall/All_Beauty.csv\n",
            "Resolving deepyeti.ucsd.edu (deepyeti.ucsd.edu)... 169.228.63.50\n",
            "Connecting to deepyeti.ucsd.edu (deepyeti.ucsd.edu)|169.228.63.50|:80... connected.\n",
            "HTTP request sent, awaiting response... 200 OK\n",
            "Length: 15499476 (15M) [application/octet-stream]\n",
            "Saving to: ‘All_Beauty.csv.2’\n",
            "\n",
            "All_Beauty.csv.2    100%[===================>]  14.78M  25.1MB/s    in 0.6s    \n",
            "\n",
            "2022-01-09 14:01:45 (25.1 MB/s) - ‘All_Beauty.csv.2’ saved [15499476/15499476]\n",
            "\n",
            "--2022-01-09 14:01:45--  http://deepyeti.ucsd.edu/jianmo/amazon/metaFiles2/meta_All_Beauty.json.gz\n",
            "Resolving deepyeti.ucsd.edu (deepyeti.ucsd.edu)... 169.228.63.50\n",
            "Connecting to deepyeti.ucsd.edu (deepyeti.ucsd.edu)|169.228.63.50|:80... connected.\n",
            "HTTP request sent, awaiting response... 200 OK\n",
            "Length: 10329961 (9.9M) [application/octet-stream]\n",
            "Saving to: ‘meta_All_Beauty.json.gz.2’\n",
            "\n",
            "meta_All_Beauty.jso 100%[===================>]   9.85M  18.4MB/s    in 0.5s    \n",
            "\n",
            "2022-01-09 14:01:46 (18.4 MB/s) - ‘meta_All_Beauty.json.gz.2’ saved [10329961/10329961]\n",
            "\n"
          ]
        }
      ],
      "source": [
        "!wget http://deepyeti.ucsd.edu/jianmo/amazon/categoryFilesSmall/All_Beauty.csv\n",
        "!wget http://deepyeti.ucsd.edu/jianmo/amazon/metaFiles2/meta_All_Beauty.json.gz"
      ]
    },
    {
      "cell_type": "code",
      "execution_count": 53,
      "id": "84b66cc7",
      "metadata": {
        "id": "84b66cc7"
      },
      "outputs": [],
      "source": [
        "metadata = getDF('/content/meta_All_Beauty.json.gz')\n",
        "ratings = pd.read_csv('/content/All_Beauty.csv', names=['asin', 'reviewerID', 'overall', 'unixReviewTime'], header=None)"
      ]
    },
    {
      "cell_type": "code",
      "execution_count": 54,
      "id": "9fd77203",
      "metadata": {
        "id": "9fd77203",
        "outputId": "b4b81f48-b6df-4825-e704-dcd3e75d11fc",
        "colab": {
          "base_uri": "https://localhost:8080/",
          "height": 0
        }
      },
      "outputs": [
        {
          "output_type": "execute_result",
          "data": {
            "text/html": [
              "\n",
              "  <div id=\"df-57423f27-6b37-48e7-9fe6-d7e5611654ea\">\n",
              "    <div class=\"colab-df-container\">\n",
              "      <div>\n",
              "<style scoped>\n",
              "    .dataframe tbody tr th:only-of-type {\n",
              "        vertical-align: middle;\n",
              "    }\n",
              "\n",
              "    .dataframe tbody tr th {\n",
              "        vertical-align: top;\n",
              "    }\n",
              "\n",
              "    .dataframe thead th {\n",
              "        text-align: right;\n",
              "    }\n",
              "</style>\n",
              "<table border=\"1\" class=\"dataframe\">\n",
              "  <thead>\n",
              "    <tr style=\"text-align: right;\">\n",
              "      <th></th>\n",
              "      <th>category</th>\n",
              "      <th>tech1</th>\n",
              "      <th>description</th>\n",
              "      <th>fit</th>\n",
              "      <th>title</th>\n",
              "      <th>also_buy</th>\n",
              "      <th>tech2</th>\n",
              "      <th>brand</th>\n",
              "      <th>feature</th>\n",
              "      <th>rank</th>\n",
              "      <th>also_view</th>\n",
              "      <th>details</th>\n",
              "      <th>main_cat</th>\n",
              "      <th>similar_item</th>\n",
              "      <th>date</th>\n",
              "      <th>price</th>\n",
              "      <th>asin</th>\n",
              "      <th>imageURL</th>\n",
              "      <th>imageURLHighRes</th>\n",
              "    </tr>\n",
              "  </thead>\n",
              "  <tbody>\n",
              "    <tr>\n",
              "      <th>0</th>\n",
              "      <td>[]</td>\n",
              "      <td></td>\n",
              "      <td>[Loud 'N Clear Personal Sound Amplifier allows...</td>\n",
              "      <td></td>\n",
              "      <td>Loud 'N Clear&amp;trade; Personal Sound Amplifier</td>\n",
              "      <td>[]</td>\n",
              "      <td></td>\n",
              "      <td>idea village</td>\n",
              "      <td>[]</td>\n",
              "      <td>2,938,573 in Beauty &amp; Personal Care (</td>\n",
              "      <td>[]</td>\n",
              "      <td>{'ASIN: ': '6546546450'}</td>\n",
              "      <td>All Beauty</td>\n",
              "      <td></td>\n",
              "      <td></td>\n",
              "      <td></td>\n",
              "      <td>6546546450</td>\n",
              "      <td>[]</td>\n",
              "      <td>[]</td>\n",
              "    </tr>\n",
              "    <tr>\n",
              "      <th>1</th>\n",
              "      <td>[]</td>\n",
              "      <td></td>\n",
              "      <td>[No7 Lift &amp; Luminate Triple Action Serum 50ml ...</td>\n",
              "      <td></td>\n",
              "      <td>No7 Lift &amp;amp; Luminate Triple Action Serum 50...</td>\n",
              "      <td>[B01E7LCSL6, B008X5RVME]</td>\n",
              "      <td></td>\n",
              "      <td></td>\n",
              "      <td>[]</td>\n",
              "      <td>872,854 in Beauty &amp; Personal Care (</td>\n",
              "      <td>[]</td>\n",
              "      <td>{'Shipping Weight:': '0.3 ounces (', 'ASIN: ':...</td>\n",
              "      <td>All Beauty</td>\n",
              "      <td>class=\"a-bordered a-horizontal-stripes  a-spa...</td>\n",
              "      <td></td>\n",
              "      <td>$44.99</td>\n",
              "      <td>7178680776</td>\n",
              "      <td>[]</td>\n",
              "      <td>[]</td>\n",
              "    </tr>\n",
              "    <tr>\n",
              "      <th>2</th>\n",
              "      <td>[]</td>\n",
              "      <td></td>\n",
              "      <td>[No7 Stay Perfect Foundation now stays perfect...</td>\n",
              "      <td></td>\n",
              "      <td>No7 Stay Perfect Foundation Cool Vanilla by No7</td>\n",
              "      <td>[]</td>\n",
              "      <td></td>\n",
              "      <td>No7</td>\n",
              "      <td>[]</td>\n",
              "      <td>956,696 in Beauty &amp; Personal Care (</td>\n",
              "      <td>[B01B8BR0O8, B01B8BR0NO, B014MHXXM8]</td>\n",
              "      <td>{'Shipping Weight:': '3.5 ounces (', 'ASIN: ':...</td>\n",
              "      <td>All Beauty</td>\n",
              "      <td></td>\n",
              "      <td></td>\n",
              "      <td>$28.76</td>\n",
              "      <td>7250468162</td>\n",
              "      <td>[]</td>\n",
              "      <td>[]</td>\n",
              "    </tr>\n",
              "    <tr>\n",
              "      <th>3</th>\n",
              "      <td>[]</td>\n",
              "      <td></td>\n",
              "      <td>[]</td>\n",
              "      <td></td>\n",
              "      <td>Wella Koleston Perfect Hair Colour 44/44 Mediu...</td>\n",
              "      <td>[B0041PBXX8]</td>\n",
              "      <td></td>\n",
              "      <td></td>\n",
              "      <td>[]</td>\n",
              "      <td>1,870,258 in Beauty &amp; Personal Care (</td>\n",
              "      <td>[]</td>\n",
              "      <td>{'\n",
              "    Item Weight: \n",
              "    ': '1.76 ounces', 'Sh...</td>\n",
              "      <td>All Beauty</td>\n",
              "      <td></td>\n",
              "      <td></td>\n",
              "      <td></td>\n",
              "      <td>7367905066</td>\n",
              "      <td>[https://images-na.ssl-images-amazon.com/image...</td>\n",
              "      <td>[https://images-na.ssl-images-amazon.com/image...</td>\n",
              "    </tr>\n",
              "    <tr>\n",
              "      <th>4</th>\n",
              "      <td>[]</td>\n",
              "      <td></td>\n",
              "      <td>[Lacto Calamine Skin Balance Daily Nourishing ...</td>\n",
              "      <td></td>\n",
              "      <td>Lacto Calamine Skin Balance Oil control 120 ml...</td>\n",
              "      <td>[]</td>\n",
              "      <td></td>\n",
              "      <td>Pirmal Healthcare</td>\n",
              "      <td>[]</td>\n",
              "      <td>67,701 in Beauty &amp; Personal Care (</td>\n",
              "      <td>[3254895630, B007VL1D9S, B00EH9A0RI, B0773MBG4...</td>\n",
              "      <td>{'Shipping Weight:': '12 ounces (', 'ASIN: ': ...</td>\n",
              "      <td>All Beauty</td>\n",
              "      <td></td>\n",
              "      <td></td>\n",
              "      <td>$12.15</td>\n",
              "      <td>7414204790</td>\n",
              "      <td>[https://images-na.ssl-images-amazon.com/image...</td>\n",
              "      <td>[https://images-na.ssl-images-amazon.com/image...</td>\n",
              "    </tr>\n",
              "  </tbody>\n",
              "</table>\n",
              "</div>\n",
              "      <button class=\"colab-df-convert\" onclick=\"convertToInteractive('df-57423f27-6b37-48e7-9fe6-d7e5611654ea')\"\n",
              "              title=\"Convert this dataframe to an interactive table.\"\n",
              "              style=\"display:none;\">\n",
              "        \n",
              "  <svg xmlns=\"http://www.w3.org/2000/svg\" height=\"24px\"viewBox=\"0 0 24 24\"\n",
              "       width=\"24px\">\n",
              "    <path d=\"M0 0h24v24H0V0z\" fill=\"none\"/>\n",
              "    <path d=\"M18.56 5.44l.94 2.06.94-2.06 2.06-.94-2.06-.94-.94-2.06-.94 2.06-2.06.94zm-11 1L8.5 8.5l.94-2.06 2.06-.94-2.06-.94L8.5 2.5l-.94 2.06-2.06.94zm10 10l.94 2.06.94-2.06 2.06-.94-2.06-.94-.94-2.06-.94 2.06-2.06.94z\"/><path d=\"M17.41 7.96l-1.37-1.37c-.4-.4-.92-.59-1.43-.59-.52 0-1.04.2-1.43.59L10.3 9.45l-7.72 7.72c-.78.78-.78 2.05 0 2.83L4 21.41c.39.39.9.59 1.41.59.51 0 1.02-.2 1.41-.59l7.78-7.78 2.81-2.81c.8-.78.8-2.07 0-2.86zM5.41 20L4 18.59l7.72-7.72 1.47 1.35L5.41 20z\"/>\n",
              "  </svg>\n",
              "      </button>\n",
              "      \n",
              "  <style>\n",
              "    .colab-df-container {\n",
              "      display:flex;\n",
              "      flex-wrap:wrap;\n",
              "      gap: 12px;\n",
              "    }\n",
              "\n",
              "    .colab-df-convert {\n",
              "      background-color: #E8F0FE;\n",
              "      border: none;\n",
              "      border-radius: 50%;\n",
              "      cursor: pointer;\n",
              "      display: none;\n",
              "      fill: #1967D2;\n",
              "      height: 32px;\n",
              "      padding: 0 0 0 0;\n",
              "      width: 32px;\n",
              "    }\n",
              "\n",
              "    .colab-df-convert:hover {\n",
              "      background-color: #E2EBFA;\n",
              "      box-shadow: 0px 1px 2px rgba(60, 64, 67, 0.3), 0px 1px 3px 1px rgba(60, 64, 67, 0.15);\n",
              "      fill: #174EA6;\n",
              "    }\n",
              "\n",
              "    [theme=dark] .colab-df-convert {\n",
              "      background-color: #3B4455;\n",
              "      fill: #D2E3FC;\n",
              "    }\n",
              "\n",
              "    [theme=dark] .colab-df-convert:hover {\n",
              "      background-color: #434B5C;\n",
              "      box-shadow: 0px 1px 3px 1px rgba(0, 0, 0, 0.15);\n",
              "      filter: drop-shadow(0px 1px 2px rgba(0, 0, 0, 0.3));\n",
              "      fill: #FFFFFF;\n",
              "    }\n",
              "  </style>\n",
              "\n",
              "      <script>\n",
              "        const buttonEl =\n",
              "          document.querySelector('#df-57423f27-6b37-48e7-9fe6-d7e5611654ea button.colab-df-convert');\n",
              "        buttonEl.style.display =\n",
              "          google.colab.kernel.accessAllowed ? 'block' : 'none';\n",
              "\n",
              "        async function convertToInteractive(key) {\n",
              "          const element = document.querySelector('#df-57423f27-6b37-48e7-9fe6-d7e5611654ea');\n",
              "          const dataTable =\n",
              "            await google.colab.kernel.invokeFunction('convertToInteractive',\n",
              "                                                     [key], {});\n",
              "          if (!dataTable) return;\n",
              "\n",
              "          const docLinkHtml = 'Like what you see? Visit the ' +\n",
              "            '<a target=\"_blank\" href=https://colab.research.google.com/notebooks/data_table.ipynb>data table notebook</a>'\n",
              "            + ' to learn more about interactive tables.';\n",
              "          element.innerHTML = '';\n",
              "          dataTable['output_type'] = 'display_data';\n",
              "          await google.colab.output.renderOutput(dataTable, element);\n",
              "          const docLink = document.createElement('div');\n",
              "          docLink.innerHTML = docLinkHtml;\n",
              "          element.appendChild(docLink);\n",
              "        }\n",
              "      </script>\n",
              "    </div>\n",
              "  </div>\n",
              "  "
            ],
            "text/plain": [
              "  category  ...                                    imageURLHighRes\n",
              "0       []  ...                                                 []\n",
              "1       []  ...                                                 []\n",
              "2       []  ...                                                 []\n",
              "3       []  ...  [https://images-na.ssl-images-amazon.com/image...\n",
              "4       []  ...  [https://images-na.ssl-images-amazon.com/image...\n",
              "\n",
              "[5 rows x 19 columns]"
            ]
          },
          "metadata": {},
          "execution_count": 54
        }
      ],
      "source": [
        "metadata.head()"
      ]
    },
    {
      "cell_type": "code",
      "execution_count": 55,
      "id": "b402792c",
      "metadata": {
        "id": "b402792c",
        "outputId": "2016d559-3e14-4517-f1b8-a3f7170c71f0",
        "colab": {
          "base_uri": "https://localhost:8080/",
          "height": 0
        }
      },
      "outputs": [
        {
          "output_type": "execute_result",
          "data": {
            "text/html": [
              "\n",
              "  <div id=\"df-4e6d2df2-6a79-452a-84d5-cec1572f0cf8\">\n",
              "    <div class=\"colab-df-container\">\n",
              "      <div>\n",
              "<style scoped>\n",
              "    .dataframe tbody tr th:only-of-type {\n",
              "        vertical-align: middle;\n",
              "    }\n",
              "\n",
              "    .dataframe tbody tr th {\n",
              "        vertical-align: top;\n",
              "    }\n",
              "\n",
              "    .dataframe thead th {\n",
              "        text-align: right;\n",
              "    }\n",
              "</style>\n",
              "<table border=\"1\" class=\"dataframe\">\n",
              "  <thead>\n",
              "    <tr style=\"text-align: right;\">\n",
              "      <th></th>\n",
              "      <th>asin</th>\n",
              "      <th>reviewerID</th>\n",
              "      <th>overall</th>\n",
              "      <th>unixReviewTime</th>\n",
              "    </tr>\n",
              "  </thead>\n",
              "  <tbody>\n",
              "    <tr>\n",
              "      <th>0</th>\n",
              "      <td>0143026860</td>\n",
              "      <td>A1V6B6TNIC10QE</td>\n",
              "      <td>1.0</td>\n",
              "      <td>1424304000</td>\n",
              "    </tr>\n",
              "    <tr>\n",
              "      <th>1</th>\n",
              "      <td>0143026860</td>\n",
              "      <td>A2F5GHSXFQ0W6J</td>\n",
              "      <td>4.0</td>\n",
              "      <td>1418860800</td>\n",
              "    </tr>\n",
              "    <tr>\n",
              "      <th>2</th>\n",
              "      <td>0143026860</td>\n",
              "      <td>A1572GUYS7DGSR</td>\n",
              "      <td>4.0</td>\n",
              "      <td>1407628800</td>\n",
              "    </tr>\n",
              "    <tr>\n",
              "      <th>3</th>\n",
              "      <td>0143026860</td>\n",
              "      <td>A1PSGLFK1NSVO</td>\n",
              "      <td>5.0</td>\n",
              "      <td>1362960000</td>\n",
              "    </tr>\n",
              "    <tr>\n",
              "      <th>4</th>\n",
              "      <td>0143026860</td>\n",
              "      <td>A6IKXKZMTKGSC</td>\n",
              "      <td>5.0</td>\n",
              "      <td>1324771200</td>\n",
              "    </tr>\n",
              "  </tbody>\n",
              "</table>\n",
              "</div>\n",
              "      <button class=\"colab-df-convert\" onclick=\"convertToInteractive('df-4e6d2df2-6a79-452a-84d5-cec1572f0cf8')\"\n",
              "              title=\"Convert this dataframe to an interactive table.\"\n",
              "              style=\"display:none;\">\n",
              "        \n",
              "  <svg xmlns=\"http://www.w3.org/2000/svg\" height=\"24px\"viewBox=\"0 0 24 24\"\n",
              "       width=\"24px\">\n",
              "    <path d=\"M0 0h24v24H0V0z\" fill=\"none\"/>\n",
              "    <path d=\"M18.56 5.44l.94 2.06.94-2.06 2.06-.94-2.06-.94-.94-2.06-.94 2.06-2.06.94zm-11 1L8.5 8.5l.94-2.06 2.06-.94-2.06-.94L8.5 2.5l-.94 2.06-2.06.94zm10 10l.94 2.06.94-2.06 2.06-.94-2.06-.94-.94-2.06-.94 2.06-2.06.94z\"/><path d=\"M17.41 7.96l-1.37-1.37c-.4-.4-.92-.59-1.43-.59-.52 0-1.04.2-1.43.59L10.3 9.45l-7.72 7.72c-.78.78-.78 2.05 0 2.83L4 21.41c.39.39.9.59 1.41.59.51 0 1.02-.2 1.41-.59l7.78-7.78 2.81-2.81c.8-.78.8-2.07 0-2.86zM5.41 20L4 18.59l7.72-7.72 1.47 1.35L5.41 20z\"/>\n",
              "  </svg>\n",
              "      </button>\n",
              "      \n",
              "  <style>\n",
              "    .colab-df-container {\n",
              "      display:flex;\n",
              "      flex-wrap:wrap;\n",
              "      gap: 12px;\n",
              "    }\n",
              "\n",
              "    .colab-df-convert {\n",
              "      background-color: #E8F0FE;\n",
              "      border: none;\n",
              "      border-radius: 50%;\n",
              "      cursor: pointer;\n",
              "      display: none;\n",
              "      fill: #1967D2;\n",
              "      height: 32px;\n",
              "      padding: 0 0 0 0;\n",
              "      width: 32px;\n",
              "    }\n",
              "\n",
              "    .colab-df-convert:hover {\n",
              "      background-color: #E2EBFA;\n",
              "      box-shadow: 0px 1px 2px rgba(60, 64, 67, 0.3), 0px 1px 3px 1px rgba(60, 64, 67, 0.15);\n",
              "      fill: #174EA6;\n",
              "    }\n",
              "\n",
              "    [theme=dark] .colab-df-convert {\n",
              "      background-color: #3B4455;\n",
              "      fill: #D2E3FC;\n",
              "    }\n",
              "\n",
              "    [theme=dark] .colab-df-convert:hover {\n",
              "      background-color: #434B5C;\n",
              "      box-shadow: 0px 1px 3px 1px rgba(0, 0, 0, 0.15);\n",
              "      filter: drop-shadow(0px 1px 2px rgba(0, 0, 0, 0.3));\n",
              "      fill: #FFFFFF;\n",
              "    }\n",
              "  </style>\n",
              "\n",
              "      <script>\n",
              "        const buttonEl =\n",
              "          document.querySelector('#df-4e6d2df2-6a79-452a-84d5-cec1572f0cf8 button.colab-df-convert');\n",
              "        buttonEl.style.display =\n",
              "          google.colab.kernel.accessAllowed ? 'block' : 'none';\n",
              "\n",
              "        async function convertToInteractive(key) {\n",
              "          const element = document.querySelector('#df-4e6d2df2-6a79-452a-84d5-cec1572f0cf8');\n",
              "          const dataTable =\n",
              "            await google.colab.kernel.invokeFunction('convertToInteractive',\n",
              "                                                     [key], {});\n",
              "          if (!dataTable) return;\n",
              "\n",
              "          const docLinkHtml = 'Like what you see? Visit the ' +\n",
              "            '<a target=\"_blank\" href=https://colab.research.google.com/notebooks/data_table.ipynb>data table notebook</a>'\n",
              "            + ' to learn more about interactive tables.';\n",
              "          element.innerHTML = '';\n",
              "          dataTable['output_type'] = 'display_data';\n",
              "          await google.colab.output.renderOutput(dataTable, element);\n",
              "          const docLink = document.createElement('div');\n",
              "          docLink.innerHTML = docLinkHtml;\n",
              "          element.appendChild(docLink);\n",
              "        }\n",
              "      </script>\n",
              "    </div>\n",
              "  </div>\n",
              "  "
            ],
            "text/plain": [
              "         asin      reviewerID  overall  unixReviewTime\n",
              "0  0143026860  A1V6B6TNIC10QE      1.0      1424304000\n",
              "1  0143026860  A2F5GHSXFQ0W6J      4.0      1418860800\n",
              "2  0143026860  A1572GUYS7DGSR      4.0      1407628800\n",
              "3  0143026860   A1PSGLFK1NSVO      5.0      1362960000\n",
              "4  0143026860   A6IKXKZMTKGSC      5.0      1324771200"
            ]
          },
          "metadata": {},
          "execution_count": 55
        }
      ],
      "source": [
        "ratings.head()"
      ]
    },
    {
      "cell_type": "markdown",
      "id": "695362e3",
      "metadata": {
        "id": "695362e3"
      },
      "source": [
        "## 資料整理"
      ]
    },
    {
      "cell_type": "code",
      "execution_count": 56,
      "id": "b552fb23",
      "metadata": {
        "id": "b552fb23"
      },
      "outputs": [],
      "source": [
        "ratings['DATE'] = pd.to_datetime(ratings['unixReviewTime'], unit='s')"
      ]
    },
    {
      "cell_type": "markdown",
      "id": "054eeba4",
      "metadata": {
        "id": "054eeba4"
      },
      "source": [
        "## 資料切分"
      ]
    },
    {
      "cell_type": "code",
      "execution_count": 57,
      "id": "284b14a8",
      "metadata": {
        "id": "284b14a8"
      },
      "outputs": [],
      "source": [
        "ratings_trainings = ratings[\n",
        "    (ratings['DATE'] < '2018-09-01')\n",
        "]\n",
        "ratings_trainings_1y = ratings[\n",
        "    (ratings['DATE'] >= '2017-09-01') & \n",
        "    (ratings['DATE'] < '2018-09-01')\n",
        "]\n",
        "ratings_trainings_3m = ratings[\n",
        "    (ratings['DATE'] >= '2018-06-01') & \n",
        "    (ratings['DATE'] < '2018-09-01')\n",
        "]\n",
        "ratings_trainings_1m = ratings[\n",
        "    (ratings['DATE'] >= '2018-08-01') & \n",
        "    (ratings['DATE'] < '2018-09-01')\n",
        "]\n",
        "\n",
        "ratings_testings = ratings[\n",
        "    (ratings['DATE'] >= '2018-09-01') & \n",
        "    (ratings['DATE'] <= '2018-09-30')\n",
        "]\n",
        "ratings_testings_by_user = ratings_testings.groupby('reviewerID').agg(list).reset_index()[['reviewerID', 'asin']].to_dict('records')\n",
        "ratings_testings_by_user = { rating['reviewerID']: rating['asin'] for rating in ratings_testings_by_user }\n",
        "users = list(ratings_testings_by_user.keys())"
      ]
    },
    {
      "cell_type": "code",
      "source": [
        "print(\"train_all:\", len(ratings_trainings))\n",
        "print(\"train_1y:\", len(ratings_trainings_1y))\n",
        "print(\"train_3M:\", len(ratings_trainings_3m))\n",
        "print(\"train_1M:\", len(ratings_trainings_1m))\n",
        "print(\"test:\", len(ratings_testings))"
      ],
      "metadata": {
        "colab": {
          "base_uri": "https://localhost:8080/"
        },
        "id": "RHlqS_Hy8N2V",
        "outputId": "c2970dc2-5d6e-4830-d139-ed42a5806280"
      },
      "id": "RHlqS_Hy8N2V",
      "execution_count": 58,
      "outputs": [
        {
          "output_type": "stream",
          "name": "stdout",
          "text": [
            "train_all: 370752\n",
            "train_1y: 48612\n",
            "train_3M: 7027\n",
            "train_1M: 1662\n",
            "test: 590\n"
          ]
        }
      ]
    },
    {
      "cell_type": "code",
      "source": [
        "print(ratings_trainings_1y.groupby(['reviewerID']).nunique())\n",
        "print(ratings_trainings_1y.groupby(['asin']).nunique())"
      ],
      "metadata": {
        "colab": {
          "base_uri": "https://localhost:8080/"
        },
        "id": "Bx48zQdYCL8K",
        "outputId": "4e09626e-753b-4a6d-ac06-f53da88a2f3d"
      },
      "id": "Bx48zQdYCL8K",
      "execution_count": 59,
      "outputs": [
        {
          "output_type": "stream",
          "name": "stdout",
          "text": [
            "                      asin  overall  unixReviewTime  DATE\n",
            "reviewerID                                               \n",
            "A0072285CLEIGDW2A0TB     1        1               1     1\n",
            "A00827299BWJTEFNVKP0     1        1               1     1\n",
            "A012671347N9PAVZNSK8     1        1               1     1\n",
            "A0127955G1ZQHYZFUZ0A     1        1               1     1\n",
            "A0148728MFRW1Y6J8UD4     1        1               1     1\n",
            "...                    ...      ...             ...   ...\n",
            "AZZEM9DMMK30Y            2        1               1     1\n",
            "AZZHAM7ZWFCDU            1        1               1     1\n",
            "AZZL11DINXDL3            1        1               1     1\n",
            "AZZQKE13BD5HE            1        1               1     1\n",
            "AZZZ5UJWUVCYZ            2        1               1     1\n",
            "\n",
            "[45373 rows x 4 columns]\n",
            "            reviewerID  overall  unixReviewTime  DATE\n",
            "asin                                                 \n",
            "0143026860           1        1               1     1\n",
            "014789302X           8        1               7     7\n",
            "0571348351           3        1               3     3\n",
            "0957664613           1        1               1     1\n",
            "0976070502           1        1               1     1\n",
            "...                ...      ...             ...   ...\n",
            "B01HIPOQ2M           5        4               5     5\n",
            "B01HIUEEHO           1        1               1     1\n",
            "B01HIWKGOM           1        1               1     1\n",
            "B01HJ84SGM           2        1               2     2\n",
            "B01HJEGTYK           3        3               3     3\n",
            "\n",
            "[8907 rows x 4 columns]\n"
          ]
        }
      ]
    },
    {
      "cell_type": "markdown",
      "id": "a6c76061",
      "metadata": {
        "id": "a6c76061"
      },
      "source": [
        "## 產生推薦"
      ]
    },
    {
      "cell_type": "code",
      "source": [
        "!pip install surprise\n",
        "import time\n",
        "import pandas as pd\n",
        "from itertools import combinations\n",
        "from collections import defaultdict\n",
        "\n",
        "from surprise import Reader\n",
        "from surprise import Dataset\n",
        "from surprise import KNNBasic\n"
      ],
      "metadata": {
        "colab": {
          "base_uri": "https://localhost:8080/"
        },
        "id": "FkkAhKHA8UU-",
        "outputId": "bd510d07-448c-468c-c71f-1514ed082148"
      },
      "id": "FkkAhKHA8UU-",
      "execution_count": 60,
      "outputs": [
        {
          "output_type": "stream",
          "name": "stdout",
          "text": [
            "Requirement already satisfied: surprise in /usr/local/lib/python3.7/dist-packages (0.1)\n",
            "Requirement already satisfied: scikit-surprise in /usr/local/lib/python3.7/dist-packages (from surprise) (1.1.1)\n",
            "Requirement already satisfied: numpy>=1.11.2 in /usr/local/lib/python3.7/dist-packages (from scikit-surprise->surprise) (1.19.5)\n",
            "Requirement already satisfied: joblib>=0.11 in /usr/local/lib/python3.7/dist-packages (from scikit-surprise->surprise) (1.1.0)\n",
            "Requirement already satisfied: scipy>=1.0.0 in /usr/local/lib/python3.7/dist-packages (from scikit-surprise->surprise) (1.4.1)\n",
            "Requirement already satisfied: six>=1.10.0 in /usr/local/lib/python3.7/dist-packages (from scikit-surprise->surprise) (1.15.0)\n"
          ]
        }
      ]
    },
    {
      "cell_type": "code",
      "source": [
        "def recommender_by_asin(training_data, k=10):\n",
        "  '''\n",
        "  排序數量最多的 K 個商品\n",
        "  '''\n",
        "  data = training_data.groupby(by=['asin']).size().sort_values(ascending=False)\n",
        "  data_list = data.index.tolist()\n",
        "  data_list = data_list[:k]\n",
        "  return data_list\n",
        "\n",
        "recommender_top10_1m = recommender_by_asin(ratings_trainings_1m, k=10)\n",
        "recommender_top10_1m"
      ],
      "metadata": {
        "colab": {
          "base_uri": "https://localhost:8080/"
        },
        "id": "CDIJ3rJVH7AQ",
        "outputId": "f5295812-0d1d-4a4a-9b33-f25c4f45a7bd"
      },
      "id": "CDIJ3rJVH7AQ",
      "execution_count": 61,
      "outputs": [
        {
          "output_type": "execute_result",
          "data": {
            "text/plain": [
              "['B01DKQAXC0',\n",
              " 'B00W259T7G',\n",
              " 'B013XKHA4M',\n",
              " 'B01DLR9IDI',\n",
              " 'B012Z7IHHI',\n",
              " 'B01AVJCDYA',\n",
              " 'B0195R1FT8',\n",
              " 'B01CJNZKZK',\n",
              " 'B018WCT01C',\n",
              " 'B01C39X6TW']"
            ]
          },
          "metadata": {},
          "execution_count": 61
        }
      ]
    },
    {
      "cell_type": "markdown",
      "source": [
        "### User-based collaborative filtering"
      ],
      "metadata": {
        "id": "UuqQrq9qyn5y"
      },
      "id": "UuqQrq9qyn5y"
    },
    {
      "cell_type": "code",
      "source": [
        "# header: user_id,item_id,rating,timestamp\n",
        "\n",
        "def recommender_user_cf(training_data, users=[], k=10, rule=False, rule_list=[]):\n",
        "\n",
        "    # loading data from dataframe\n",
        "    # user_to_items dict:\n",
        "    # {\n",
        "    #   'user': {\n",
        "    #       'item': ratings...\n",
        "    #   }...\n",
        "    # }\n",
        "    user_to_items = defaultdict(dict)\n",
        "    for _, row in training_data.iterrows():\n",
        "        row = dict(row)\n",
        "        user = row['reviewerID']\n",
        "        item = row['asin']\n",
        "        rating = float(row['overall'])\n",
        "\n",
        "        user_to_items[user][item] = rating\n",
        "\n",
        "    print(\"total users before filtering: \", len(user_to_items))\n",
        "\n",
        "    # remove obscure user to decrease data size\n",
        "    # filtering params\n",
        "    remove_obscure_user = True\n",
        "    user_rating_threshold = 3\n",
        "    all_users = list(user_to_items.keys())\n",
        "    for user in all_users:\n",
        "        ratings = user_to_items[user]\n",
        "        if remove_obscure_user and len(ratings) < user_rating_threshold:\n",
        "            del user_to_items[user]\n",
        "\n",
        "    print(\"total users  after filtering: \", len(user_to_items))\n",
        "\n",
        "    # generate item to user mapping dict\n",
        "    # {\n",
        "    #   'item': {\n",
        "    #       'user': ratings...\n",
        "    #   }...\n",
        "    # }\n",
        "    item_to_users = defaultdict(dict)\n",
        "    for user, items in user_to_items.items():\n",
        "        for item, rating in items.items():\n",
        "            item_to_users[item][user] = rating\n",
        "\n",
        "    # prepare data of computing user similarity \n",
        "    init_sim = lambda: [0 for _ in range(3)]\n",
        "    factory = lambda: defaultdict(init_sim)\n",
        "    pre_user_similarity = defaultdict(factory)\n",
        "    n = len(item_to_users)\n",
        "    index = 0\n",
        "    for item, user_ratings in item_to_users.items():\n",
        "        if len(user_ratings) > 1:\n",
        "            # print(f\"item: {item} have been rated by {len(user_ratings)} users progress: {index}/{n}\")\n",
        "            for user1, user2 in combinations(user_ratings.keys(), 2):\n",
        "                xy = user_ratings[user1] * user_ratings[user2]\n",
        "                xx = user_ratings[user1] ** 2\n",
        "                yy = user_ratings[user2] ** 2\n",
        "                pre_user_similarity[user1][user2][0] += xy\n",
        "                pre_user_similarity[user1][user2][1] += xx\n",
        "                pre_user_similarity[user1][user2][2] += yy\n",
        "\n",
        "                pre_user_similarity[user2][user1][0] += xy\n",
        "                pre_user_similarity[user2][user1][1] += xx\n",
        "                pre_user_similarity[user2][user1][2] += yy\n",
        "        index += 1\n",
        "\n",
        "    user_similarity = {}\n",
        "    for src_user in pre_user_similarity:\n",
        "        user_similarity_order = []\n",
        "        for dst_user, val in pre_user_similarity[src_user].items():\n",
        "            xy = val[0]\n",
        "            xx = val[1]\n",
        "            yy = val[2]\n",
        "            div = ((xx*yy) ** 0.5)\n",
        "            if div == 0:\n",
        "                continue\n",
        "            similarity = xy / div\n",
        "            if similarity < 0:\n",
        "                continue\n",
        "            for i, s in enumerate(user_similarity_order):\n",
        "                target_similarity = s[1]\n",
        "                if target_similarity < similarity:\n",
        "                    user_similarity_order.insert(i, (dst_user, similarity))\n",
        "                    break\n",
        "            else:\n",
        "                user_similarity_order.append((dst_user, similarity))\n",
        "        user_similarity[src_user] = user_similarity_order\n",
        "\n",
        "    recommendation = {}\n",
        "    for user in users:\n",
        "        if user in user_similarity:\n",
        "            sim_users = user_similarity[user]\n",
        "            recommended_items = []\n",
        "            recommended_items_set = set()\n",
        "            user_have_rated = set(user_to_items[user])\n",
        "            stop_recommend = False\n",
        "            for sim_user, _ in sim_users:\n",
        "                items_from_sim_user = sorted(list(user_to_items[sim_user].items()), key=lambda item: item[1])\n",
        "                for item, _ in items_from_sim_user:\n",
        "                    if item not in user_have_rated and item not in recommended_items_set:\n",
        "                        recommended_items.append(item)\n",
        "                        recommended_items_set.add(item)\n",
        "                    if len(recommended_items) >= k:\n",
        "                        stop_recommend = True\n",
        "                        break\n",
        "                if stop_recommend:\n",
        "                    break\n",
        "            recommendation[user] = recommended_items\n",
        "        else:\n",
        "            recommendation[user] = []\n",
        "            if rule:\n",
        "                recommendation[user] = rule_list\n",
        "    return recommendation\n",
        "\n",
        "ratings_by_user_user = recommender_user_cf(ratings_trainings, users)\n",
        "ratings_by_user_user_rule = recommender_user_cf(ratings_trainings, users, rule=True, rule_list=recommender_top10_1m)\n",
        "# ratings_by_user"
      ],
      "metadata": {
        "id": "TaFw0qiuynkL",
        "outputId": "97f5dbe3-fe19-4f78-c550-e6d1dcc7f273",
        "colab": {
          "base_uri": "https://localhost:8080/"
        }
      },
      "id": "TaFw0qiuynkL",
      "execution_count": 62,
      "outputs": [
        {
          "output_type": "stream",
          "name": "stdout",
          "text": [
            "total users before filtering:  323489\n",
            "total users  after filtering:  4793\n",
            "total users before filtering:  323489\n",
            "total users  after filtering:  4793\n"
          ]
        }
      ]
    },
    {
      "cell_type": "markdown",
      "source": [
        "### Item-based collaborative filtering"
      ],
      "metadata": {
        "id": "JBVE6MpaynB4"
      },
      "id": "JBVE6MpaynB4"
    },
    {
      "cell_type": "code",
      "source": [
        "def recommender_item_cf(training_data, users=[], k=10, rule=False, rule_list=[]):\n",
        "\n",
        "    # loading data from dataframe\n",
        "    # item_to_users dict:\n",
        "    # {\n",
        "    #   'item': {\n",
        "    #       'user': ratings...\n",
        "    #   }...\n",
        "    # }\n",
        "    item_to_users = defaultdict(dict)\n",
        "    for _, row in training_data.iterrows():\n",
        "        row = dict(row)\n",
        "        user = row['reviewerID']\n",
        "        item = row['asin']\n",
        "        rating = float(row['overall'])\n",
        "        item_to_users[item][user] = rating\n",
        "\n",
        "    print(\"data converted\")\n",
        "\n",
        "    user_to_items = defaultdict(dict)\n",
        "    for item, rating_users in item_to_users.items():\n",
        "        for user, rating in rating_users.items():\n",
        "            user_to_items[user][item] = rating\n",
        "\n",
        "    print(\"data inverted\")\n",
        "\n",
        "    init_sim = lambda: [0, 0, 0]\n",
        "    factory = lambda: defaultdict(init_sim)\n",
        "    pre_item_similarity = defaultdict(factory)\n",
        "    for user, items in user_to_items.items():\n",
        "        if len(items) > 1:\n",
        "            for i1, i2 in combinations(items.keys(), 2):\n",
        "                xy = items[i1] * items[i2]\n",
        "                xx = items[i1] ** 2\n",
        "                yy = items[i2] ** 2\n",
        "                pre_item_similarity[i1][i2][0] += xy\n",
        "                pre_item_similarity[i1][i2][1] += xx\n",
        "                pre_item_similarity[i1][i2][2] += yy\n",
        "\n",
        "                pre_item_similarity[i2][i1][0] += xy\n",
        "                pre_item_similarity[i2][i1][1] += xx\n",
        "                pre_item_similarity[i2][i1][2] += yy\n",
        "\n",
        "    print(\"sim data prepared\")\n",
        "\n",
        "    item_similarity = {}\n",
        "    for src_item in pre_item_similarity:\n",
        "        item_similarity_order = []\n",
        "        for dst_item, val in pre_item_similarity[src_item].items():\n",
        "            xy = val[0]\n",
        "            xx = val[1]\n",
        "            yy = val[2]\n",
        "            div = ((xx*yy) ** 0.5)\n",
        "            if div == 0:\n",
        "                continue\n",
        "            similarity = xy / div\n",
        "            if similarity < 0:\n",
        "                continue\n",
        "            for i, s in enumerate(item_similarity_order):\n",
        "                target_similarity = s[1]\n",
        "                if target_similarity < similarity:\n",
        "                    item_similarity_order.insert(i, (dst_item, similarity))\n",
        "                    break\n",
        "            else:\n",
        "                item_similarity_order.append((dst_item, similarity))\n",
        "        item_similarity[src_item] = item_similarity_order\n",
        "\n",
        "    # print(f\"get {k} recommendation items for for user: {users}\")\n",
        "\n",
        "    recommendation = {}\n",
        "    for user in users:\n",
        "        items = []\n",
        "        items_set = set()\n",
        "        stop = False\n",
        "        user_has_rated = set(user_to_items[user])\n",
        "        for item in user_has_rated:\n",
        "            if item in item_similarity:\n",
        "                for sim_item, _ in item_similarity[item]:\n",
        "                    # skip the item user has rated\n",
        "                    if sim_item not in user_has_rated and sim_item not in items_set:\n",
        "                        items.append(sim_item)\n",
        "                        items_set.add(sim_item)\n",
        "                    if len(items) >= k:\n",
        "                        stop = True\n",
        "                        break\n",
        "                if stop:\n",
        "                    break\n",
        "        if rule:\n",
        "            if len(items) == 0:\n",
        "                items = rule_list\n",
        "        recommendation[user] = items\n",
        "    return recommendation    \n",
        "\n",
        "ratings_by_user_item = recommender_item_cf(ratings_trainings, users)\n",
        "ratings_by_user_item_rule = recommender_item_cf(ratings_trainings, users, rule=True, rule_list=recommender_top10_1m)\n",
        "# ratings_by_user_item_rule"
      ],
      "metadata": {
        "id": "grn4R7ALymin",
        "outputId": "b0d1dff5-9873-4f47-ccbc-6c546a608b2f",
        "colab": {
          "base_uri": "https://localhost:8080/"
        }
      },
      "id": "grn4R7ALymin",
      "execution_count": 63,
      "outputs": [
        {
          "output_type": "stream",
          "name": "stdout",
          "text": [
            "data converted\n",
            "data inverted\n",
            "sim data prepared\n",
            "data converted\n",
            "data inverted\n",
            "sim data prepared\n"
          ]
        }
      ]
    },
    {
      "cell_type": "markdown",
      "source": [
        "### Surprise package collaborative filtering"
      ],
      "metadata": {
        "id": "ZRC1ZRXKzPbh"
      },
      "id": "ZRC1ZRXKzPbh"
    },
    {
      "cell_type": "code",
      "execution_count": 64,
      "id": "9280a043",
      "metadata": {
        "id": "9280a043",
        "outputId": "6119166c-b842-44c9-ebda-675128272b71",
        "colab": {
          "base_uri": "https://localhost:8080/"
        }
      },
      "outputs": [
        {
          "output_type": "stream",
          "name": "stdout",
          "text": [
            "Computing the cosine similarity matrix...\n",
            "Done computing similarity matrix.\n",
            "Computing the cosine similarity matrix...\n",
            "Done computing similarity matrix.\n"
          ]
        }
      ],
      "source": [
        "def recommender_surprise(training_data, users=[], k=10, user_based=False, algo=KNNBasic, rule=False, rule_list=[]):\n",
        "\n",
        "    training_data = (\n",
        "        training_data\n",
        "        .sort_values(\"DATE\", ascending=False)\n",
        "        .groupby(['reviewerID', 'asin']).head(1)\n",
        "    )\n",
        "\n",
        "    reader = Reader(rating_scale=(0, 5))\n",
        "    training_data = training_data[['reviewerID', 'asin', 'overall']]\n",
        "    data = Dataset.load_from_df(training_data, reader=reader)\n",
        "\n",
        "    sim_options = {\n",
        "        'name': 'cosine',\n",
        "        'user_based': user_based  # compute similarities between items\n",
        "    }\n",
        "    algo_impl = algo(sim_options=sim_options)\n",
        "    trainset = data.build_full_trainset()\n",
        "    algo_impl.fit(trainset)\n",
        "\n",
        "    recommendation = {}\n",
        "    for user in users:\n",
        "        items_user_rated = set(training_data.loc[training_data['reviewerID'] == user]['asin'].to_list())\n",
        "        recommend_item_list = []\n",
        "        recommend_item_set = set()\n",
        "        for item in items_user_rated:\n",
        "            iid = algo_impl.trainset.to_inner_iid(item)\n",
        "            recommend_items_iid = algo_impl.get_neighbors(iid, k)\n",
        "            for sim_item_iid in recommend_items_iid:\n",
        "                item_raw_id = algo_impl.trainset.to_raw_iid(sim_item_iid)\n",
        "                if item_raw_id not in items_user_rated and item_raw_id not in recommend_item_set:\n",
        "                    recommend_item_list.append(item_raw_id)\n",
        "                    recommend_item_set.add(item_raw_id)\n",
        "\n",
        "            if len(recommend_item_list) >= k:\n",
        "                recommend_item_list = recommend_item_list[:k]\n",
        "                break\n",
        "        if rule:\n",
        "            if len(recommend_item_list) == 0:\n",
        "                recommend_item_list = rule_list\n",
        "        recommendation[user] = recommend_item_list\n",
        "\n",
        "    return recommendation\n",
        "\n",
        "ratings_by_user_sp_item = recommender_surprise(ratings_trainings_1y, users)\n",
        "ratings_by_user_sp_item_rule = recommender_surprise(ratings_trainings_1y, users, rule=True, rule_list=recommender_top10_1m)\n",
        "# ratings_by_user_sp_user = recommender(ratings_trainings_3m, users, user_based=True)\n",
        "# ratings_by_user"
      ]
    },
    {
      "cell_type": "markdown",
      "id": "04a4ca9e",
      "metadata": {
        "id": "04a4ca9e"
      },
      "source": [
        "## 結果評估"
      ]
    },
    {
      "cell_type": "code",
      "execution_count": 65,
      "id": "ee763747",
      "metadata": {
        "id": "ee763747"
      },
      "outputs": [],
      "source": [
        "def evaluate(ratings_testings_by_user={}, ratings_by_user={}, method=None):\n",
        "    '''\n",
        "    * ratings_testings_by_user: dict 真實被購買的商品資料（2018-09-01 以後資料）\n",
        "    * ratings_by_user: dict 利用訓練資料學習的推薦商品\n",
        "    * method: str\n",
        "    * score: float\n",
        "    '''\n",
        "    total = 0\n",
        "    for d in ratings_testings_by_user:\n",
        "        if d in ratings_by_user:\n",
        "            total += len(set(ratings_by_user[d]) & set(ratings_testings_by_user[d]))\n",
        "\n",
        "    score = total / len(ratings_testings)\n",
        "    return score\n",
        "\n",
        "# evaluate(ratings_testings_by_user, ratings_by_user)"
      ]
    },
    {
      "cell_type": "code",
      "execution_count": 66,
      "id": "53055ac2",
      "metadata": {
        "id": "53055ac2",
        "colab": {
          "base_uri": "https://localhost:8080/"
        },
        "outputId": "e0c034a1-b71e-4b60-9442-de22210276ef"
      },
      "outputs": [
        {
          "output_type": "stream",
          "name": "stdout",
          "text": [
            "User-based collaborative filtering 0.0\n",
            "Item-based collaborative filtering 0.001694915254237288\n",
            "surprise-iten collaborative filtering 0.001694915254237288\n"
          ]
        }
      ],
      "source": [
        "print(\"User-based collaborative filtering\", evaluate(ratings_testings_by_user, ratings_by_user_user))\n",
        "print(\"Item-based collaborative filtering\", evaluate(ratings_testings_by_user, ratings_by_user_item))\n",
        "print(\"surprise-iten collaborative filtering\", evaluate(ratings_testings_by_user, ratings_by_user_sp_item))"
      ]
    },
    {
      "cell_type": "code",
      "source": [
        "print(\"User-based collaborative filtering add rule\", evaluate(ratings_testings_by_user, ratings_by_user_user_rule))\n",
        "print(\"Item-based collaborative filtering add rule\", evaluate(ratings_testings_by_user, ratings_by_user_item_rule))\n",
        "print(\"surprise-item collaborative filtering add rule\", evaluate(ratings_testings_by_user, ratings_by_user_sp_item_rule))"
      ],
      "metadata": {
        "id": "_1IUxnul-fHL",
        "outputId": "d4a05bd5-070b-4537-d9ae-0685044562f8",
        "colab": {
          "base_uri": "https://localhost:8080/"
        }
      },
      "id": "_1IUxnul-fHL",
      "execution_count": 67,
      "outputs": [
        {
          "output_type": "stream",
          "name": "stdout",
          "text": [
            "User-based collaborative filtering add rule 0.1576271186440678\n",
            "Item-based collaborative filtering add rule 0.15423728813559323\n",
            "surprise-item collaborative filtering add rule 0.1576271186440678\n"
          ]
        }
      ]
    }
  ],
  "metadata": {
    "kernelspec": {
      "display_name": "Python 3",
      "language": "python",
      "name": "python3"
    },
    "language_info": {
      "codemirror_mode": {
        "name": "ipython",
        "version": 3
      },
      "file_extension": ".py",
      "mimetype": "text/x-python",
      "name": "python",
      "nbconvert_exporter": "python",
      "pygments_lexer": "ipython3",
      "version": "3.9.0"
    },
    "colab": {
      "name": "sample-cf-surprise.ipynb",
      "provenance": [],
      "include_colab_link": true
    }
  },
  "nbformat": 4,
  "nbformat_minor": 5
}