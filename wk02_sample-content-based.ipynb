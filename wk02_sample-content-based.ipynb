{
  "cells": [
    {
      "cell_type": "markdown",
      "metadata": {
        "id": "view-in-github",
        "colab_type": "text"
      },
      "source": [
        "<a href=\"https://colab.research.google.com/github/hokou/data-course-sample/blob/wk02/wk02_sample-content-based.ipynb\" target=\"_parent\"><img src=\"https://colab.research.google.com/assets/colab-badge.svg\" alt=\"Open In Colab\"/></a>"
      ]
    },
    {
      "cell_type": "markdown",
      "id": "84de56a8",
      "metadata": {
        "id": "84de56a8"
      },
      "source": [
        "# Sample Code"
      ]
    },
    {
      "cell_type": "markdown",
      "id": "688675f5",
      "metadata": {
        "id": "688675f5"
      },
      "source": [
        "## 基礎建設"
      ]
    },
    {
      "cell_type": "code",
      "execution_count": 1,
      "id": "b32226db",
      "metadata": {
        "scrolled": true,
        "id": "b32226db"
      },
      "outputs": [],
      "source": [
        "import pandas as pd\n",
        "import gzip, json\n",
        "\n",
        "def parse(path):\n",
        "    g = gzip.open(path, 'rb')\n",
        "    for l in g:\n",
        "        yield json.loads(l)\n",
        "\n",
        "def getDF(path):\n",
        "    i = 0\n",
        "    df = {}\n",
        "    for d in parse(path):\n",
        "        df[i] = d\n",
        "        i += 1\n",
        "    return pd.DataFrame.from_dict(df, orient='index')"
      ]
    },
    {
      "cell_type": "markdown",
      "id": "84ff0f9d",
      "metadata": {
        "id": "84ff0f9d"
      },
      "source": [
        "## 載入資料"
      ]
    },
    {
      "cell_type": "code",
      "execution_count": 2,
      "id": "9402e9c7",
      "metadata": {
        "id": "9402e9c7",
        "outputId": "da0e81c9-e46c-4fb6-9f8b-bc2e12d0a10d",
        "colab": {
          "base_uri": "https://localhost:8080/"
        }
      },
      "outputs": [
        {
          "output_type": "stream",
          "name": "stdout",
          "text": [
            "--2022-01-01 15:12:00--  http://deepyeti.ucsd.edu/jianmo/amazon/categoryFilesSmall/All_Beauty.csv\n",
            "Resolving deepyeti.ucsd.edu (deepyeti.ucsd.edu)... 169.228.63.50\n",
            "Connecting to deepyeti.ucsd.edu (deepyeti.ucsd.edu)|169.228.63.50|:80... connected.\n",
            "HTTP request sent, awaiting response... 200 OK\n",
            "Length: 15499476 (15M) [application/octet-stream]\n",
            "Saving to: ‘All_Beauty.csv’\n",
            "\n",
            "All_Beauty.csv      100%[===================>]  14.78M  22.7MB/s    in 0.7s    \n",
            "\n",
            "2022-01-01 15:12:01 (22.7 MB/s) - ‘All_Beauty.csv’ saved [15499476/15499476]\n",
            "\n",
            "--2022-01-01 15:12:01--  http://deepyeti.ucsd.edu/jianmo/amazon/metaFiles2/meta_All_Beauty.json.gz\n",
            "Resolving deepyeti.ucsd.edu (deepyeti.ucsd.edu)... 169.228.63.50\n",
            "Connecting to deepyeti.ucsd.edu (deepyeti.ucsd.edu)|169.228.63.50|:80... connected.\n",
            "HTTP request sent, awaiting response... 200 OK\n",
            "Length: 10329961 (9.9M) [application/octet-stream]\n",
            "Saving to: ‘meta_All_Beauty.json.gz’\n",
            "\n",
            "meta_All_Beauty.jso 100%[===================>]   9.85M  16.7MB/s    in 0.6s    \n",
            "\n",
            "2022-01-01 15:12:02 (16.7 MB/s) - ‘meta_All_Beauty.json.gz’ saved [10329961/10329961]\n",
            "\n"
          ]
        }
      ],
      "source": [
        "!wget http://deepyeti.ucsd.edu/jianmo/amazon/categoryFilesSmall/All_Beauty.csv\n",
        "!wget http://deepyeti.ucsd.edu/jianmo/amazon/metaFiles2/meta_All_Beauty.json.gz"
      ]
    },
    {
      "cell_type": "code",
      "execution_count": 3,
      "id": "84b66cc7",
      "metadata": {
        "id": "84b66cc7"
      },
      "outputs": [],
      "source": [
        "metadata = getDF('/content/meta_All_Beauty.json.gz')\n",
        "ratings = pd.read_csv('/content/All_Beauty.csv', names=['asin', 'reviewerID', 'overall', 'unixReviewTime'], header=None)"
      ]
    },
    {
      "cell_type": "code",
      "execution_count": 4,
      "id": "9fd77203",
      "metadata": {
        "id": "9fd77203",
        "outputId": "2aa927d0-036d-47cb-ff6f-6efe86e072ce",
        "colab": {
          "base_uri": "https://localhost:8080/",
          "height": 676
        }
      },
      "outputs": [
        {
          "output_type": "execute_result",
          "data": {
            "text/html": [
              "\n",
              "  <div id=\"df-d2e1c3d4-c8b6-4db7-8551-3516c81c6dce\">\n",
              "    <div class=\"colab-df-container\">\n",
              "      <div>\n",
              "<style scoped>\n",
              "    .dataframe tbody tr th:only-of-type {\n",
              "        vertical-align: middle;\n",
              "    }\n",
              "\n",
              "    .dataframe tbody tr th {\n",
              "        vertical-align: top;\n",
              "    }\n",
              "\n",
              "    .dataframe thead th {\n",
              "        text-align: right;\n",
              "    }\n",
              "</style>\n",
              "<table border=\"1\" class=\"dataframe\">\n",
              "  <thead>\n",
              "    <tr style=\"text-align: right;\">\n",
              "      <th></th>\n",
              "      <th>category</th>\n",
              "      <th>tech1</th>\n",
              "      <th>description</th>\n",
              "      <th>fit</th>\n",
              "      <th>title</th>\n",
              "      <th>also_buy</th>\n",
              "      <th>tech2</th>\n",
              "      <th>brand</th>\n",
              "      <th>feature</th>\n",
              "      <th>rank</th>\n",
              "      <th>also_view</th>\n",
              "      <th>details</th>\n",
              "      <th>main_cat</th>\n",
              "      <th>similar_item</th>\n",
              "      <th>date</th>\n",
              "      <th>price</th>\n",
              "      <th>asin</th>\n",
              "      <th>imageURL</th>\n",
              "      <th>imageURLHighRes</th>\n",
              "    </tr>\n",
              "  </thead>\n",
              "  <tbody>\n",
              "    <tr>\n",
              "      <th>0</th>\n",
              "      <td>[]</td>\n",
              "      <td></td>\n",
              "      <td>[Loud 'N Clear Personal Sound Amplifier allows...</td>\n",
              "      <td></td>\n",
              "      <td>Loud 'N Clear&amp;trade; Personal Sound Amplifier</td>\n",
              "      <td>[]</td>\n",
              "      <td></td>\n",
              "      <td>idea village</td>\n",
              "      <td>[]</td>\n",
              "      <td>2,938,573 in Beauty &amp; Personal Care (</td>\n",
              "      <td>[]</td>\n",
              "      <td>{'ASIN: ': '6546546450'}</td>\n",
              "      <td>All Beauty</td>\n",
              "      <td></td>\n",
              "      <td></td>\n",
              "      <td></td>\n",
              "      <td>6546546450</td>\n",
              "      <td>[]</td>\n",
              "      <td>[]</td>\n",
              "    </tr>\n",
              "    <tr>\n",
              "      <th>1</th>\n",
              "      <td>[]</td>\n",
              "      <td></td>\n",
              "      <td>[No7 Lift &amp; Luminate Triple Action Serum 50ml ...</td>\n",
              "      <td></td>\n",
              "      <td>No7 Lift &amp;amp; Luminate Triple Action Serum 50...</td>\n",
              "      <td>[B01E7LCSL6, B008X5RVME]</td>\n",
              "      <td></td>\n",
              "      <td></td>\n",
              "      <td>[]</td>\n",
              "      <td>872,854 in Beauty &amp; Personal Care (</td>\n",
              "      <td>[]</td>\n",
              "      <td>{'Shipping Weight:': '0.3 ounces (', 'ASIN: ':...</td>\n",
              "      <td>All Beauty</td>\n",
              "      <td>class=\"a-bordered a-horizontal-stripes  a-spa...</td>\n",
              "      <td></td>\n",
              "      <td>$44.99</td>\n",
              "      <td>7178680776</td>\n",
              "      <td>[]</td>\n",
              "      <td>[]</td>\n",
              "    </tr>\n",
              "    <tr>\n",
              "      <th>2</th>\n",
              "      <td>[]</td>\n",
              "      <td></td>\n",
              "      <td>[No7 Stay Perfect Foundation now stays perfect...</td>\n",
              "      <td></td>\n",
              "      <td>No7 Stay Perfect Foundation Cool Vanilla by No7</td>\n",
              "      <td>[]</td>\n",
              "      <td></td>\n",
              "      <td>No7</td>\n",
              "      <td>[]</td>\n",
              "      <td>956,696 in Beauty &amp; Personal Care (</td>\n",
              "      <td>[B01B8BR0O8, B01B8BR0NO, B014MHXXM8]</td>\n",
              "      <td>{'Shipping Weight:': '3.5 ounces (', 'ASIN: ':...</td>\n",
              "      <td>All Beauty</td>\n",
              "      <td></td>\n",
              "      <td></td>\n",
              "      <td>$28.76</td>\n",
              "      <td>7250468162</td>\n",
              "      <td>[]</td>\n",
              "      <td>[]</td>\n",
              "    </tr>\n",
              "    <tr>\n",
              "      <th>3</th>\n",
              "      <td>[]</td>\n",
              "      <td></td>\n",
              "      <td>[]</td>\n",
              "      <td></td>\n",
              "      <td>Wella Koleston Perfect Hair Colour 44/44 Mediu...</td>\n",
              "      <td>[B0041PBXX8]</td>\n",
              "      <td></td>\n",
              "      <td></td>\n",
              "      <td>[]</td>\n",
              "      <td>1,870,258 in Beauty &amp; Personal Care (</td>\n",
              "      <td>[]</td>\n",
              "      <td>{'\n",
              "    Item Weight: \n",
              "    ': '1.76 ounces', 'Sh...</td>\n",
              "      <td>All Beauty</td>\n",
              "      <td></td>\n",
              "      <td></td>\n",
              "      <td></td>\n",
              "      <td>7367905066</td>\n",
              "      <td>[https://images-na.ssl-images-amazon.com/image...</td>\n",
              "      <td>[https://images-na.ssl-images-amazon.com/image...</td>\n",
              "    </tr>\n",
              "    <tr>\n",
              "      <th>4</th>\n",
              "      <td>[]</td>\n",
              "      <td></td>\n",
              "      <td>[Lacto Calamine Skin Balance Daily Nourishing ...</td>\n",
              "      <td></td>\n",
              "      <td>Lacto Calamine Skin Balance Oil control 120 ml...</td>\n",
              "      <td>[]</td>\n",
              "      <td></td>\n",
              "      <td>Pirmal Healthcare</td>\n",
              "      <td>[]</td>\n",
              "      <td>67,701 in Beauty &amp; Personal Care (</td>\n",
              "      <td>[3254895630, B007VL1D9S, B00EH9A0RI, B0773MBG4...</td>\n",
              "      <td>{'Shipping Weight:': '12 ounces (', 'ASIN: ': ...</td>\n",
              "      <td>All Beauty</td>\n",
              "      <td></td>\n",
              "      <td></td>\n",
              "      <td>$12.15</td>\n",
              "      <td>7414204790</td>\n",
              "      <td>[https://images-na.ssl-images-amazon.com/image...</td>\n",
              "      <td>[https://images-na.ssl-images-amazon.com/image...</td>\n",
              "    </tr>\n",
              "  </tbody>\n",
              "</table>\n",
              "</div>\n",
              "      <button class=\"colab-df-convert\" onclick=\"convertToInteractive('df-d2e1c3d4-c8b6-4db7-8551-3516c81c6dce')\"\n",
              "              title=\"Convert this dataframe to an interactive table.\"\n",
              "              style=\"display:none;\">\n",
              "        \n",
              "  <svg xmlns=\"http://www.w3.org/2000/svg\" height=\"24px\"viewBox=\"0 0 24 24\"\n",
              "       width=\"24px\">\n",
              "    <path d=\"M0 0h24v24H0V0z\" fill=\"none\"/>\n",
              "    <path d=\"M18.56 5.44l.94 2.06.94-2.06 2.06-.94-2.06-.94-.94-2.06-.94 2.06-2.06.94zm-11 1L8.5 8.5l.94-2.06 2.06-.94-2.06-.94L8.5 2.5l-.94 2.06-2.06.94zm10 10l.94 2.06.94-2.06 2.06-.94-2.06-.94-.94-2.06-.94 2.06-2.06.94z\"/><path d=\"M17.41 7.96l-1.37-1.37c-.4-.4-.92-.59-1.43-.59-.52 0-1.04.2-1.43.59L10.3 9.45l-7.72 7.72c-.78.78-.78 2.05 0 2.83L4 21.41c.39.39.9.59 1.41.59.51 0 1.02-.2 1.41-.59l7.78-7.78 2.81-2.81c.8-.78.8-2.07 0-2.86zM5.41 20L4 18.59l7.72-7.72 1.47 1.35L5.41 20z\"/>\n",
              "  </svg>\n",
              "      </button>\n",
              "      \n",
              "  <style>\n",
              "    .colab-df-container {\n",
              "      display:flex;\n",
              "      flex-wrap:wrap;\n",
              "      gap: 12px;\n",
              "    }\n",
              "\n",
              "    .colab-df-convert {\n",
              "      background-color: #E8F0FE;\n",
              "      border: none;\n",
              "      border-radius: 50%;\n",
              "      cursor: pointer;\n",
              "      display: none;\n",
              "      fill: #1967D2;\n",
              "      height: 32px;\n",
              "      padding: 0 0 0 0;\n",
              "      width: 32px;\n",
              "    }\n",
              "\n",
              "    .colab-df-convert:hover {\n",
              "      background-color: #E2EBFA;\n",
              "      box-shadow: 0px 1px 2px rgba(60, 64, 67, 0.3), 0px 1px 3px 1px rgba(60, 64, 67, 0.15);\n",
              "      fill: #174EA6;\n",
              "    }\n",
              "\n",
              "    [theme=dark] .colab-df-convert {\n",
              "      background-color: #3B4455;\n",
              "      fill: #D2E3FC;\n",
              "    }\n",
              "\n",
              "    [theme=dark] .colab-df-convert:hover {\n",
              "      background-color: #434B5C;\n",
              "      box-shadow: 0px 1px 3px 1px rgba(0, 0, 0, 0.15);\n",
              "      filter: drop-shadow(0px 1px 2px rgba(0, 0, 0, 0.3));\n",
              "      fill: #FFFFFF;\n",
              "    }\n",
              "  </style>\n",
              "\n",
              "      <script>\n",
              "        const buttonEl =\n",
              "          document.querySelector('#df-d2e1c3d4-c8b6-4db7-8551-3516c81c6dce button.colab-df-convert');\n",
              "        buttonEl.style.display =\n",
              "          google.colab.kernel.accessAllowed ? 'block' : 'none';\n",
              "\n",
              "        async function convertToInteractive(key) {\n",
              "          const element = document.querySelector('#df-d2e1c3d4-c8b6-4db7-8551-3516c81c6dce');\n",
              "          const dataTable =\n",
              "            await google.colab.kernel.invokeFunction('convertToInteractive',\n",
              "                                                     [key], {});\n",
              "          if (!dataTable) return;\n",
              "\n",
              "          const docLinkHtml = 'Like what you see? Visit the ' +\n",
              "            '<a target=\"_blank\" href=https://colab.research.google.com/notebooks/data_table.ipynb>data table notebook</a>'\n",
              "            + ' to learn more about interactive tables.';\n",
              "          element.innerHTML = '';\n",
              "          dataTable['output_type'] = 'display_data';\n",
              "          await google.colab.output.renderOutput(dataTable, element);\n",
              "          const docLink = document.createElement('div');\n",
              "          docLink.innerHTML = docLinkHtml;\n",
              "          element.appendChild(docLink);\n",
              "        }\n",
              "      </script>\n",
              "    </div>\n",
              "  </div>\n",
              "  "
            ],
            "text/plain": [
              "  category  ...                                    imageURLHighRes\n",
              "0       []  ...                                                 []\n",
              "1       []  ...                                                 []\n",
              "2       []  ...                                                 []\n",
              "3       []  ...  [https://images-na.ssl-images-amazon.com/image...\n",
              "4       []  ...  [https://images-na.ssl-images-amazon.com/image...\n",
              "\n",
              "[5 rows x 19 columns]"
            ]
          },
          "metadata": {},
          "execution_count": 4
        }
      ],
      "source": [
        "metadata.head()"
      ]
    },
    {
      "cell_type": "code",
      "execution_count": 5,
      "id": "b402792c",
      "metadata": {
        "id": "b402792c",
        "outputId": "13beb769-d47b-4d35-fa78-f44067fe2157",
        "colab": {
          "base_uri": "https://localhost:8080/",
          "height": 204
        }
      },
      "outputs": [
        {
          "output_type": "execute_result",
          "data": {
            "text/html": [
              "\n",
              "  <div id=\"df-2ad51b50-d76d-44b5-bdca-7b8b631333bf\">\n",
              "    <div class=\"colab-df-container\">\n",
              "      <div>\n",
              "<style scoped>\n",
              "    .dataframe tbody tr th:only-of-type {\n",
              "        vertical-align: middle;\n",
              "    }\n",
              "\n",
              "    .dataframe tbody tr th {\n",
              "        vertical-align: top;\n",
              "    }\n",
              "\n",
              "    .dataframe thead th {\n",
              "        text-align: right;\n",
              "    }\n",
              "</style>\n",
              "<table border=\"1\" class=\"dataframe\">\n",
              "  <thead>\n",
              "    <tr style=\"text-align: right;\">\n",
              "      <th></th>\n",
              "      <th>asin</th>\n",
              "      <th>reviewerID</th>\n",
              "      <th>overall</th>\n",
              "      <th>unixReviewTime</th>\n",
              "    </tr>\n",
              "  </thead>\n",
              "  <tbody>\n",
              "    <tr>\n",
              "      <th>0</th>\n",
              "      <td>0143026860</td>\n",
              "      <td>A1V6B6TNIC10QE</td>\n",
              "      <td>1.0</td>\n",
              "      <td>1424304000</td>\n",
              "    </tr>\n",
              "    <tr>\n",
              "      <th>1</th>\n",
              "      <td>0143026860</td>\n",
              "      <td>A2F5GHSXFQ0W6J</td>\n",
              "      <td>4.0</td>\n",
              "      <td>1418860800</td>\n",
              "    </tr>\n",
              "    <tr>\n",
              "      <th>2</th>\n",
              "      <td>0143026860</td>\n",
              "      <td>A1572GUYS7DGSR</td>\n",
              "      <td>4.0</td>\n",
              "      <td>1407628800</td>\n",
              "    </tr>\n",
              "    <tr>\n",
              "      <th>3</th>\n",
              "      <td>0143026860</td>\n",
              "      <td>A1PSGLFK1NSVO</td>\n",
              "      <td>5.0</td>\n",
              "      <td>1362960000</td>\n",
              "    </tr>\n",
              "    <tr>\n",
              "      <th>4</th>\n",
              "      <td>0143026860</td>\n",
              "      <td>A6IKXKZMTKGSC</td>\n",
              "      <td>5.0</td>\n",
              "      <td>1324771200</td>\n",
              "    </tr>\n",
              "  </tbody>\n",
              "</table>\n",
              "</div>\n",
              "      <button class=\"colab-df-convert\" onclick=\"convertToInteractive('df-2ad51b50-d76d-44b5-bdca-7b8b631333bf')\"\n",
              "              title=\"Convert this dataframe to an interactive table.\"\n",
              "              style=\"display:none;\">\n",
              "        \n",
              "  <svg xmlns=\"http://www.w3.org/2000/svg\" height=\"24px\"viewBox=\"0 0 24 24\"\n",
              "       width=\"24px\">\n",
              "    <path d=\"M0 0h24v24H0V0z\" fill=\"none\"/>\n",
              "    <path d=\"M18.56 5.44l.94 2.06.94-2.06 2.06-.94-2.06-.94-.94-2.06-.94 2.06-2.06.94zm-11 1L8.5 8.5l.94-2.06 2.06-.94-2.06-.94L8.5 2.5l-.94 2.06-2.06.94zm10 10l.94 2.06.94-2.06 2.06-.94-2.06-.94-.94-2.06-.94 2.06-2.06.94z\"/><path d=\"M17.41 7.96l-1.37-1.37c-.4-.4-.92-.59-1.43-.59-.52 0-1.04.2-1.43.59L10.3 9.45l-7.72 7.72c-.78.78-.78 2.05 0 2.83L4 21.41c.39.39.9.59 1.41.59.51 0 1.02-.2 1.41-.59l7.78-7.78 2.81-2.81c.8-.78.8-2.07 0-2.86zM5.41 20L4 18.59l7.72-7.72 1.47 1.35L5.41 20z\"/>\n",
              "  </svg>\n",
              "      </button>\n",
              "      \n",
              "  <style>\n",
              "    .colab-df-container {\n",
              "      display:flex;\n",
              "      flex-wrap:wrap;\n",
              "      gap: 12px;\n",
              "    }\n",
              "\n",
              "    .colab-df-convert {\n",
              "      background-color: #E8F0FE;\n",
              "      border: none;\n",
              "      border-radius: 50%;\n",
              "      cursor: pointer;\n",
              "      display: none;\n",
              "      fill: #1967D2;\n",
              "      height: 32px;\n",
              "      padding: 0 0 0 0;\n",
              "      width: 32px;\n",
              "    }\n",
              "\n",
              "    .colab-df-convert:hover {\n",
              "      background-color: #E2EBFA;\n",
              "      box-shadow: 0px 1px 2px rgba(60, 64, 67, 0.3), 0px 1px 3px 1px rgba(60, 64, 67, 0.15);\n",
              "      fill: #174EA6;\n",
              "    }\n",
              "\n",
              "    [theme=dark] .colab-df-convert {\n",
              "      background-color: #3B4455;\n",
              "      fill: #D2E3FC;\n",
              "    }\n",
              "\n",
              "    [theme=dark] .colab-df-convert:hover {\n",
              "      background-color: #434B5C;\n",
              "      box-shadow: 0px 1px 3px 1px rgba(0, 0, 0, 0.15);\n",
              "      filter: drop-shadow(0px 1px 2px rgba(0, 0, 0, 0.3));\n",
              "      fill: #FFFFFF;\n",
              "    }\n",
              "  </style>\n",
              "\n",
              "      <script>\n",
              "        const buttonEl =\n",
              "          document.querySelector('#df-2ad51b50-d76d-44b5-bdca-7b8b631333bf button.colab-df-convert');\n",
              "        buttonEl.style.display =\n",
              "          google.colab.kernel.accessAllowed ? 'block' : 'none';\n",
              "\n",
              "        async function convertToInteractive(key) {\n",
              "          const element = document.querySelector('#df-2ad51b50-d76d-44b5-bdca-7b8b631333bf');\n",
              "          const dataTable =\n",
              "            await google.colab.kernel.invokeFunction('convertToInteractive',\n",
              "                                                     [key], {});\n",
              "          if (!dataTable) return;\n",
              "\n",
              "          const docLinkHtml = 'Like what you see? Visit the ' +\n",
              "            '<a target=\"_blank\" href=https://colab.research.google.com/notebooks/data_table.ipynb>data table notebook</a>'\n",
              "            + ' to learn more about interactive tables.';\n",
              "          element.innerHTML = '';\n",
              "          dataTable['output_type'] = 'display_data';\n",
              "          await google.colab.output.renderOutput(dataTable, element);\n",
              "          const docLink = document.createElement('div');\n",
              "          docLink.innerHTML = docLinkHtml;\n",
              "          element.appendChild(docLink);\n",
              "        }\n",
              "      </script>\n",
              "    </div>\n",
              "  </div>\n",
              "  "
            ],
            "text/plain": [
              "         asin      reviewerID  overall  unixReviewTime\n",
              "0  0143026860  A1V6B6TNIC10QE      1.0      1424304000\n",
              "1  0143026860  A2F5GHSXFQ0W6J      4.0      1418860800\n",
              "2  0143026860  A1572GUYS7DGSR      4.0      1407628800\n",
              "3  0143026860   A1PSGLFK1NSVO      5.0      1362960000\n",
              "4  0143026860   A6IKXKZMTKGSC      5.0      1324771200"
            ]
          },
          "metadata": {},
          "execution_count": 5
        }
      ],
      "source": [
        "ratings.head()"
      ]
    },
    {
      "cell_type": "markdown",
      "id": "695362e3",
      "metadata": {
        "id": "695362e3"
      },
      "source": [
        "## 資料整理"
      ]
    },
    {
      "cell_type": "code",
      "execution_count": 6,
      "id": "b552fb23",
      "metadata": {
        "id": "b552fb23"
      },
      "outputs": [],
      "source": [
        "ratings['DATE'] = pd.to_datetime(ratings['unixReviewTime'], unit='s')"
      ]
    },
    {
      "cell_type": "markdown",
      "id": "054eeba4",
      "metadata": {
        "id": "054eeba4"
      },
      "source": [
        "## 資料切分"
      ]
    },
    {
      "cell_type": "code",
      "execution_count": 11,
      "id": "284b14a8",
      "metadata": {
        "id": "284b14a8"
      },
      "outputs": [],
      "source": [
        "ratings_trainings = ratings[\n",
        "    (ratings['DATE'] < '2018-09-01')\n",
        "]\n",
        "ratings_testings = ratings[\n",
        "    (ratings['DATE'] >= '2018-09-01') & \n",
        "    (ratings['DATE'] <= '2018-09-30')\n",
        "]\n",
        "ratings_trainings_3m = ratings[\n",
        "    (ratings['DATE'] >= '2018-06-01') & \n",
        "    (ratings['DATE'] < '2018-09-01')\n",
        "]\n",
        "ratings_testings_by_user = ratings_testings.groupby('reviewerID').agg(list).reset_index()[['reviewerID', 'asin']].to_dict('records')\n",
        "ratings_testings_by_user = { rating['reviewerID']: rating['asin'] for rating in ratings_testings_by_user }\n",
        "users = list(ratings_testings_by_user.keys())"
      ]
    },
    {
      "cell_type": "code",
      "source": [
        "print(\"train:\", len(ratings_trainings))\n",
        "print(\"test:\", len(ratings_testings))\n",
        "print(\"train_3M:\", len(ratings_trainings_3m))"
      ],
      "metadata": {
        "id": "diM-I1jBMzTI",
        "outputId": "7ad024b1-ca3a-4abd-8812-a063e61c6e20",
        "colab": {
          "base_uri": "https://localhost:8080/"
        }
      },
      "id": "diM-I1jBMzTI",
      "execution_count": 12,
      "outputs": [
        {
          "output_type": "stream",
          "name": "stdout",
          "text": [
            "train: 370752\n",
            "test: 590\n",
            "train_3M: 7027\n"
          ]
        }
      ]
    },
    {
      "cell_type": "markdown",
      "id": "a6c76061",
      "metadata": {
        "id": "a6c76061"
      },
      "source": [
        "## 產生推薦"
      ]
    },
    {
      "cell_type": "code",
      "execution_count": 8,
      "id": "61e7487b",
      "metadata": {
        "id": "61e7487b"
      },
      "outputs": [],
      "source": [
        "from sklearn.feature_extraction.text import TfidfVectorizer\n",
        "\n",
        "# 計算商品用標題所表示的 tfidf 矩陣\n",
        "df = metadata.drop_duplicates('title')\n",
        "tf = TfidfVectorizer(analyzer='word')\n",
        "tfidf_matrix = tf.fit_transform(df['title'])\n",
        "\n",
        "# 計算商品間的相似程度\n",
        "from sklearn.metrics.pairwise import cosine_similarity\n",
        "similarity_matrix = cosine_similarity(tfidf_matrix)\n",
        "mapping = pd.Series(df.index,index = df['title'])\n",
        "\n",
        "# 每個商品回傳 k 個最相近的商品\n",
        "def recommend_item(item_input, k=2):\n",
        "    try:\n",
        "        item_index = mapping[item_input]\n",
        "        similarity_score = list(enumerate(similarity_matrix[item_index]))\n",
        "        similarity_score = sorted(similarity_score, key=lambda x: x[1], reverse=True)\n",
        "        similarity_score = similarity_score[:k]\n",
        "        item_indices = [i[0] for i in similarity_score]\n",
        "        return (df['asin'].iloc[item_indices].tolist())\n",
        "    except:\n",
        "        return []\n",
        "\n",
        "# 利用使用者購買過的商品產生推薦\n",
        "def recommend_items(items, k):\n",
        "    res = []\n",
        "    for d in items:\n",
        "        res.extend(recommend_item(d, k))\n",
        "    return res\n"
      ]
    },
    {
      "cell_type": "code",
      "execution_count": 19,
      "id": "9280a043",
      "metadata": {
        "id": "9280a043",
        "outputId": "a4a12da9-648b-46a4-e4a9-96054d1384b0",
        "colab": {
          "base_uri": "https://localhost:8080/"
        }
      },
      "outputs": [
        {
          "output_type": "stream",
          "name": "stdout",
          "text": [
            "{'A100XQFWKQ30O2': [], 'A103T1QOGFCSEH': [], 'A106UKKSJ2KXPF': [], 'A10A7GV4D5A11V': [], 'A1119JJ37ZLB8R': [], 'A113UOOLBSZN52': [], 'A12M4U7WK4ALCR': [], 'A12T8YTW6VWT7S': [], 'A1364JXGKB46MM': [], 'A137DALOQFKBTI': [], 'A13FEZ3WV7S2EY': [], 'A13IV4I1B0RXMG': [], 'A13JU88JAHN72I': ['B00AU92V44', 'B014HILES2', 'B01DPZJ6JM', 'B01A6O5KUY', 'B01CL3IXJI', 'B008XNX92C', 'B018OLOHVY', 'B018OSUOC8', 'B000QPXD26', 'B00DG8Q9KS'], 'A13K55R6VH1OOD': [], 'A13P7VFU075A': [], 'A13SWYE4QLB6NG': [], 'A13ZTQ0Q4ATA41': [], 'A142EDN04OD62U': [], 'A142I22FIC8MZK': [], 'A14834QTII5TLT': [], 'A14A447VPACTBC': [], 'A14AP6MN5XO6LB': [], 'A14CLF25IX25US': [], 'A14LYXC3HTBAHI': [], 'A14VUW4KZ34EOE': [], 'A14Y32P26G9YL': [], 'A157T25PBS7MX4': [], 'A15HZDSERD85C8': [], 'A15JJ8J1FGADIX': [], 'A15ZCL70JXXH89': [], 'A1617KN2IAWZ6J': [], 'A16E0O88262HKA': [], 'A16NSZ58PTVIYF': [], 'A16UGDXRTDLJG5': [], 'A16X9HR3UFQQXY': [], 'A16Y7V1CZCWKFV': ['B016Y5KOAA', 'B016Y4UXDY', 'B01BPI1EDW', 'B00DEM0QVE', 'B01FI99MAG', 'B00GS7HHJG', 'B0084FILB8', 'B000GX1N52', 'B000FQMYKI', 'B018W9DC2S'], 'A174YOBOSW9WDN': [], 'A1786SKRAJXH86': [], 'A17K2BUZ20WD2': [], 'A17LYRFV645L0V': [], 'A18LNGVXDZBTUR': [], 'A19503XX7GU6J2': ['B01AUP9NRK', 'B01CDEHN1E', 'B01CYS1KAE', 'B00VQHFBBE', 'B00I9267YO', 'B01AUP9LMW', 'B01AUP9ODI', 'B013R5Q79M', 'B01GP5OTMS', 'B00XAL7R4S', 'B01AUWL3HQ', 'B010L7IEN6', 'B010L7K17S', 'B01D0Z5T3O', 'B01FJPZWSU', 'B013WR0B6U', 'B00K08QKRE', 'B00K08R11I', 'B01FTG8WBS', 'B00K08R9GK'], 'A19HVHRZDYFEOP': [], 'A19JM38B861BO4': [], 'A19KGY3W1P0MHT': [], 'A19KJPOF3QOJ24': [], 'A19U5RT4Q8Q1T6': [], 'A1AQNQUNX8B6JT': [], 'A1ARU0IN6RUFFD': [], 'A1BB4635KSKDMV': [], 'A1BCC7X6KRTBG0': [], 'A1BPJ56BXENC7': [], 'A1C0RI6W65FC8B': [], 'A1C60LJGZVEK27': [], 'A1CB2SMS3TD44Z': [], 'A1CNSU8P68CPLT': [], 'A1CSDWBYUJBCJZ': [], 'A1CTNNVIYHO25P': [], 'A1CTQF97HFYOZB': [], 'A1D5C2H9UFZHPU': [], 'A1D5UVH72Z6NJ1': [], 'A1DAUVZRVSLLNW': [], 'A1DCZ9882PXLVB': [], 'A1DZ63D35BNT86': [], 'A1E0QCKB4R2X8X': [], 'A1E76OZZ5YUWVA': [], 'A1EBHZPAYMILW9': [], 'A1EJVNGBY5GM5I': [], 'A1ER0356V2DSKW': [], 'A1EY751AUVO5NZ': ['B01FJR7F0Q', 'B0172I9J2C', 'B00UIVDIU0', 'B00MSKXOJE', 'B01CC0HKIK', 'B00L10UKLW', 'B01FRFHLP4', 'B00MNAKERY', 'B00MSKWRWY', 'B004M9ML2K'], 'A1EZFX1TRHSAJX': [], 'A1F08GM4B97FV': [], 'A1F6EFMBK795DJ': [], 'A1FC8Y896NZP4T': [], 'A1FKIAKVOBNN7Y': [], 'A1FKUBRPLG6Y8I': [], 'A1G2HL4W8B3TA0': [], 'A1G8Z9IKJ0BD1M': [], 'A1GEJ55RJGD7JW': [], 'A1GIYGD23YIDTN': [], 'A1GLG2IZBZHRAJ': [], 'A1H1T82FPO20DN': [], 'A1H7JDZ9BKTKGC': [], 'A1HBROZPSV5KT6': [], 'A1HBXMUIHTAIU2': [], 'A1I32A4SA9W2L2': [], 'A1IDJ6KR8CQV9I': [], 'A1II0TTUUE2C7Y': [], 'A1ILEZFIVOU0EP': [], 'A1ITJ5M7I9G7FR': [], 'A1IWTXM1SJWHDN': [], 'A1J2NTTE63GNG2': [], 'A1JRREJ5D62LFF': [], 'A1KGMTEXL70WF6': [], 'A1KWUQZJ1Z6MN2': [], 'A1LXJ8XCGNBXOF': [], 'A1M8YMS915ZK0B': [], 'A1NDRR3G9SJF18': [], 'A1NE6K8PXW780O': [], 'A1NEG0FRW5FDBL': [], 'A1NN82RWB6PXJW': [], 'A1NY67EVWD6CD6': [], 'A1OB41VQHXZ0R8': [], 'A1OJ2IXX8F7Q7X': [], 'A1OTIUDE7LWAGT': [], 'A1P1OHYJOOZX5P': [], 'A1PFDA9SL15S4O': [], 'A1PKBKALGLSX0Z': [], 'A1PMLXHE863GR6': [], 'A1PR178735XC70': ['B00OGZ3BLA', 'B00OGZ39I0', 'B00OGZ396W', 'B00OGZ39BM', 'B00OGZ39C6', 'B00OGZ3B92', 'B00PG7QKZQ', 'B00LY8WG9K', 'B00LY8WGD6', 'B00LY8WG5E'], 'A1PXO67EUM5HJQ': [], 'A1QHS58JVFLF3I': [], 'A1QPKRHCAOQVZ5': [], 'A1R2TTULP0Z2BM': [], 'A1R8GBYBJWWWU0': [], 'A1RAXJN2Q4V20X': [], 'A1RCMCAJR2LJA4': [], 'A1RE2XA5HQD1D3': [], 'A1RMLPJ1PF8LGV': [], 'A1RX2ODQRQZVSI': [], 'A1S3NMNTSO6GW': [], 'A1S6OQV823B53J': [], 'A1SA3N793WT2LM': ['B005T7KBP8', 'B016ITI4IQ', 'B00IAA4JMM', 'B00UNHMXN2', 'B000W3UJFG', 'B01CE0HBF0', 'B00XAFHCGM', 'B008L2UR66', 'B00IAAEHII', 'B00BSE0DHM', 'B0085WMZ4Y', 'B00NNLGYXA', 'B01DYHYIZ8', 'B006K43HD2', 'B000IS25WA', 'B00NE5Q9JO', 'B01216JLSC', 'B00VYOVOZ6', 'B0109SKYIU', 'B016DV1AN0', 'B008NC6ZHY', 'B00FXSD6QE', 'B001KYU582', 'B00HX098Z8', 'B00JB2H79A', 'B01FEBSB5U', 'B008MF9ABA', 'B000NN7G2E', 'B000158MK4', 'B0074E0TXI', 'B0145NZKG6', 'B00C8HC1HI', 'B00APRK4FY', 'B0084I3XGI', 'B008S1WYIO', 'B008VWGQG6', 'B00EHJ91JG', 'B00AL0QAI0', 'B008S1XBAE', 'B01430HY7E'], 'A1SA932MLERVQY': [], 'A1SCZBXGPJ2615': [], 'A1SMXRCNRO4ZQM': [], 'A1T1N2585E1T0D': [], 'A1TEKLMF4V1X2C': [], 'A1TF44D9KYAD60': [], 'A1TGP1VTM3KCTI': [], 'A1TK5M6EM3GS3C': [], 'A1TO3GV14TGF2R': [], 'A1TP9JHTIY468V': ['B01DEDYWD0', 'B0097JDK84', 'B01BLT9YBY', 'B01CYS1KAE', 'B00SI58CO0', 'B010L93H2C', 'B012LNESGU', 'B015YJN0IA', 'B012LLO5OM', 'B013C9CNYG', 'B01EZ42S6K', 'B00KC5CZ9C', 'B00MI4DQU2', 'B0050YPKB0', 'B00EQ8PMUA', 'B00MI4EUP2', 'B01690CEE4', 'B00IZLCPO0', 'B00EQEOV4W', 'B01CINCH20'], 'A1UAOE8KO7Q1DZ': ['B007MJKAGG', 'B009WI44JE', 'B00GEH5ID2', 'B00GEH6A3E', 'B00TBXV1AA', 'B00TBXV4JI', 'B001G8RW5Q', 'B00MNAKERY', 'B007MJK9RG', 'B007MJKCT6'], 'A1UDCDY6ZNE83T': [], 'A1UUNKRU1DTZTL': [], 'A1V0UJQ4XGAJ3H': [], 'A1VBZLO2JGYU1B': [], 'A1VC6YCAFKV6Q': [], 'A1VVEX78B2TYBX': [], 'A1VVQ2DFL0QLXF': [], 'A1VYWSQ2OXLH98': [], 'A1WEFBEJ7OHSVZ': ['B003M5PZL4', 'B00U0Z0EQA', 'B00FE91TI4', 'B00B8A9IW2', 'B019KDZHQ4', 'B016OIJL4W', 'B00KQR61E6', 'B00T3GUV2O', 'B00JU7FM20', 'B004C1U0PI'], 'A1WOX40GUAFDKW': [], 'A1WSZED2O5MA5T': ['B000HGWA6E', 'B000JK2L2Q', 'B0002DLRYI', 'B000IZAJEO', 'B00VY8VSM6', 'B000JK2JMS', 'B018OLOHVY', 'B000BTAP9Q', 'B018OSUOC8', 'B00G3C2FI4'], 'A1XBJBT6HORBLA': [], 'A1XHN6JF8A8W69': [], 'A1XWCTARAQ0679': [], 'A1XZJ85PKMAZP0': [], 'A1YALF6PWOMS6S': [], 'A1YEO5KEW7M2GF': [], 'A1YQ33635DJEG5': [], 'A1YSAFP6T3JZ1C': [], 'A1YTPCNXQ2LJ5Z': [], 'A1YVXZK51DEDPC': [], 'A1Z3GE09RDY6O7': [], 'A1Z6IPI0G3QIUR': [], 'A1ZVXL7K0XY3S6': [], 'A1ZXYITUZM3Q6A': [], 'A202BVEB76NTMK': [], 'A205S0BTPEFI0I': [], 'A20MSUD02BETH2': [], 'A20P2XESU3G3EC': [], 'A20QY357E6SAF': [], 'A20SJ2793OUCPW': [], 'A20T7NNNUHH60H': [], 'A21JL9NVA7KEMC': [], 'A21M4N08F3EU5J': [], 'A21NUBJVBS230S': [], 'A21OELUKDF2E57': [], 'A21XQP90LEND9R': [], 'A21YO11OY4KATO': [], 'A220EHDBIGBL30': [], 'A224YJVNU30DVM': [], 'A22A1B25VBD0YO': [], 'A22EWIMT2GUTTL': [], 'A22EZJLTPINCFS': [], 'A22QJRB86RF6O1': [], 'A2320AUCHA95U2': [], 'A232IJ75I4KP9C': [], 'A23GTKDW92ZPP2': [], 'A23O1B8IVSYKMO': [], 'A23VR3KT0TPG83': [], 'A24HCM5QV0ZTJ5': [], 'A24ZE4O3OQMSP0': [], 'A255E6ZWUBMEJJ': [], 'A258D00BRNHJ77': [], 'A25TLD8KIU807H': [], 'A26434CRUTADT5': [], 'A26AT96096UOEZ': [], 'A26RKZDM4DK8OQ': [], 'A274IW68565M0U': [], 'A286OWYO1BDT52': [], 'A288UAQLON8FK2': [], 'A28E3FNV1BYC94': ['B00V6FGP98', 'B001O82DAW', 'B018RFIR4A', 'B018IX59K6', 'B01GR1O9ZC', 'B01A1N2AJO', 'B001GIKIAW', 'B00BD0M6PI', 'B018IVWOR4', 'B012H3UVII'], 'A28GO11F387SOX': [], 'A28H0PFALTML0I': [], 'A28OZKV4ZYZX42': [], 'A28P7FF1TVPG1K': [], 'A28Q7C1FAIZGLV': [], 'A29834GBB4DOP1': ['B01D8DY20O', 'B005NJUD9G', 'B00VEYJQNS', 'B0164D2SME', 'B01CJNZKZK', 'B00S14K494', 'B01CM7HQAA', 'B016V4GUUW', 'B015JE0T2A', 'B01AMG2GAI'], 'A29HQ60YC1RG1P': [], 'A29MENRU87PET0': [], 'A29PZKXDCQFTYW': [], 'A29SD3TFGX6Q34': [], 'A2A0MIOWIW2SB8': [], 'A2A8ECI6ABJBMA': [], 'A2AAQWBJJTK3E1': ['B00O3MQ8XE', 'B01C957SJE', 'B010KQX3N4', 'B010MGAUMO', 'B00SNIQPGY', 'B01A7ZRHTY', 'B00ZD236H4', 'B010MIFIWY', 'B019HXGDYM', 'B01BXZPDWA'], 'A2AE0E0H463YL6': [], 'A2APG6OZXU4QIZ': [], 'A2BDB427ROEP7H': [], 'A2BHJO8WOGMW6E': [], 'A2BOSA30FCF6G8': [], 'A2BU6N5956T9NH': ['B00XDAM66U', 'B0069G3J0W', 'B00DWKWE22', 'B00KGGYNME', 'B002NSB920', 'B00UMOFM8E', 'B01GQDZWES', 'B007L88SPI', 'B00KBEQLBC', 'B00QF1L8CC'], 'A2BUZ308P92OYA': [], 'A2C1F859F9V1SL': [], 'A2C8YINPNRQOAU': [], 'A2CDQOF7WHUYKJ': [], 'A2CEEE0IK3LKN1': [], 'A2CZVE6ORV87C5': [], 'A2DD6RH1AF0PLI': [], 'A2DFOCWUKJX3PT': [], 'A2E8WG5GRZGMXU': [], 'A2ESQAPIGR2TJF': [], 'A2EUQ4ESAB2N6A': [], 'A2EZXF5YGYTOWN': [], 'A2F0VQQLSF558D': [], 'A2F3QV40SONN60': [], 'A2F95NSPD4XEEU': [], 'A2FA2J1JT12N7J': [], 'A2FFUJ5D4CMJ4L': [], 'A2FLLYV6Z8UQ26': [], 'A2G1XJ25DR7PVF': [], 'A2G5KJ0CZE65ZD': [], 'A2GFPTQ4VWDX96': ['B013V74O28', 'B0015A08VA', 'B005F7PJJK', 'B000RMDWN8', 'B00VG1AV5Q', 'B01BEQ15T8', 'B00O4DU9R8', 'B01H81PEY0', 'B018CNYAFM', 'B00PJ9SDB0'], 'A2GJLNRQTVUNOF': [], 'A2GOFJ3OZZUZ3H': [], 'A2GV0FE30O6M67': [], 'A2H3W11661MWDA': [], 'A2H7FD5GQMJXAQ': [], 'A2H7VSYLKGKLLJ': [], 'A2HFAX39PMLIGH': [], 'A2I4O72AAE1T1T': [], 'A2I868XUY96VWA': [], 'A2IK039KMC8UP1': [], 'A2IMJV0CQMZLGC': ['B019Z9K17S', 'B019Z9LD98', 'B019Z9LD52', 'B019Z9KN76', 'B019Z9K6V4', 'B019Z9K4QG', 'B019Z9LAPK', 'B019Z9L30W', 'B019Z9L4KG', 'B019Z9KL00'], 'A2INWR0T7A7UN5': [], 'A2IOBG1ERS4JP3': ['B00K251VIS', 'B00K250V7K', 'B00JU041WE', 'B00JU0221Q', 'B00JU1VUOU', 'B00K24XOX4', 'B019169I1U', 'B00JPH5XP6', 'B00M3FOFS8', 'B01DYQFGUU'], 'A2IRPQ7DXQ9YIN': [], 'A2J4WOR87ELFBH': [], 'A2JCBLTLYDPQLW': ['B00NZ24BQ4', 'B00NZ24ZEC', 'B00X9W5DD0', 'B00NXT8S6I', 'B00NXT8Y80', 'B00VUIDVB6', 'B00NZ24JUW', 'B00LBPG8RW', 'B00ME2DGYO', 'B00NXT8Q0G'], 'A2JEH2NKM1Z8CQ': [], 'A2JXZSR7R85KX4': [], 'A2K7XZCFYGZH0O': [], 'A2KO4HGLWB57LI': [], 'A2KVN4XKFJH0I8': [], 'A2LM47GK1W7RRR': [], 'A2LSOMD2X9KCCH': [], 'A2LYTBRWFQJMKM': [], 'A2M4YSOJZELJ6N': [], 'A2MAZK8XSIDXPF': [], 'A2MDIPJ7MS0MUJ': [], 'A2MGO3WV3SX7X': [], 'A2MLV3I5MMJ2RA': [], 'A2MPSHMC0U29AV': [], 'A2NI47L1B1RXSG': [], 'A2NJQZBE8TSUYO': [], 'A2NWTETCSLOEQN': [], 'A2O4DMC8M5JFHG': [], 'A2O823CIB99X95': [], 'A2OT3011J8E1ZP': [], 'A2OXIHJW4K9NKE': [], 'A2P6L9MQK99U36': [], 'A2PB6LYMRA7Z9V': [], 'A2PEJEOUE9MNA6': [], 'A2PIBK3EOG5TBK': [], 'A2PY1DBGV9FQA2': [], 'A2Q5UOQ4L1BOB9': [], 'A2QE1WIYFY0HAP': [], 'A2QP73U21FHJZI': [], 'A2QV1YJODH28QP': [], 'A2RAISC8UEEBK9': [], 'A2RDNAR2R66DKD': [], 'A2RXAD7UZ4VFT6': [], 'A2S47NK970GKD9': [], 'A2SMFKDH22FMA3': [], 'A2SOH4QHL5DZ6D': [], 'A2SQIQZUBEAJR3': [], 'A2SWEHEK2BMPM8': [], 'A2SYZ28NVJZ4R1': [], 'A2T0AMZZLASKKV': [], 'A2TCLY6N04N9D7': [], 'A2TW5FC72PI7SE': [], 'A2UAC8RKSPUIKH': [], 'A2UX00W1OX5A80': [], 'A2V88AD0XHE2IE': [], 'A2VC9R3XCFOEP1': [], 'A2VLCD1OWKXBW0': [], 'A2VTFDQ1DZN7UI': [], 'A2WHTNQ939BS71': [], 'A2WQGKM49J8UYT': [], 'A2WX2YLLHJDLX7': [], 'A2X4BZH61VJH5M': [], 'A2XEM0Y2PBNYK3': [], 'A2XFJ8CTY7VDNN': ['B007CFGMGC', 'B00K0D8VZ8', 'B01F1CO3UY', 'B000HZTZZO', 'B013Y9FY6I', 'B00BTYNO9A', 'B00BTYNQ7K', 'B00MNM7EZW', 'B00NF1KPHY', 'B0171AMK9U'], 'A2XTIQTNDTY6IA': [], 'A2XVM7UW32TYJ4': [], 'A2XY3CJ3ZCAD03': ['B00015XAQA', 'B00WQAMASC', 'B00X918PRC', 'B004E4GHRS', 'B001S0ILU2', 'B019RBAZRA', 'B000070IX3', 'B01F22HT1S', 'B01EAG8312', 'B00016R1D2', 'B00015XAQA', 'B00WQAMASC', 'B00X918PRC', 'B004E4GHRS', 'B001S0ILU2', 'B019RBAZRA', 'B000070IX3', 'B01F22HT1S', 'B01EAG8312', 'B00016R1D2'], 'A2XYR0XUSOOBKN': [], 'A2Y1J1AKXDLR1': [], 'A2Y88AU2Y58W78': [], 'A2Z6RKQQUX4RJA': [], 'A2ZBZF2MUG5BMT': [], 'A2ZFTLMOAS9YS9': [], 'A2ZIIOGLNJDGAW': [], 'A2ZKSKEG5ADC67': [], 'A2ZZKY1V6M940H': [], 'A31LANQ03TDCXY': [], 'A323D529OO2E1G': [], 'A3254BNN69CL47': [], 'A327I3S4ZCZYBV': [], 'A32D5I46E15TEC': [], 'A32H6TQKJ1PQTP': [], 'A32KYN14BUANDF': [], 'A32OQFYMJ18HD6': [], 'A333LLJ35S8DVV': [], 'A33M6H443E78K3': [], 'A33S6R9E8SJQBP': [], 'A34DAQYDWYMVSG': [], 'A35F9VHYWAFR8J': [], 'A35F9XOEGELEWC': [], 'A35PB7968I55RI': [], 'A35RIL0AVMMXXL': [], 'A35Y5NLC3UEUQD': [], 'A367NSWV6NUSL1': [], 'A36I89SEZ432XE': [], 'A375WSDCO30KT9': [], 'A37G41T4DD51AH': [], 'A37M369VIVDDVJ': [], 'A37OPVPXMWHJJK': [], 'A37WMXX147RL1X': [], 'A37XPPIGUTR4LE': [], 'A388NSX468EY1E': [], 'A38GODWWMRN5IP': [], 'A38J6ZI0XZOY54': [], 'A38KP6TI3BUIM6': [], 'A38KUK8INKLRVW': [], 'A38OH5OTHDIENK': [], 'A38QGF4YG5YLUX': [], 'A3909LKTROS8XZ': [], 'A3961EO6PXRSV4': [], 'A39LZUDABR584J': [], 'A39PTGNQVCNU44': [], 'A39VI1UOID3TYE': [], 'A39YNT3CHM2I0Z': [], 'A3A3FMJO4E1E16': [], 'A3B99K4E030SZQ': [], 'A3BE6JK97CYAGA': ['B00005JS5C', 'B01GX1DMMC', 'B00WU0ZYYA', 'B01DYGDWVK', 'B018LYSVYS', 'B00QUBLCX2', 'B00XWMBR1O', 'B00E57NI4E', 'B00E57NI3A', 'B00RCD74HA', 'B00005JS5C', 'B01GX1DMMC', 'B00WU0ZYYA', 'B01DYGDWVK', 'B018LYSVYS', 'B00QUBLCX2', 'B00XWMBR1O', 'B00E57NI4E', 'B00E57NI3A', 'B00RCD74HA'], 'A3BLE5G96342IP': [], 'A3BNG9PTUPB4QO': [], 'A3BPFL7PM0EX1K': [], 'A3BT1WLPENXMD6': ['B001B87SJG', 'B001B87SJ6', 'B001B87SKU', 'B001B867JI', 'B001B844JS', 'B001LYBSK0', 'B001B87S1O', 'B00282ZSQY', 'B00282Y26G', 'B001C7E9C0', 'B019ZZ10M2', 'B01319FBBY', 'B000N3EGJA', 'B01DUWYQZ4', 'B01AVG47AQ', 'B01319OLXS', 'B01319FL8M', 'B00I9JD2M2', 'B00MTZ4DKM', 'B00IAA7U8W'], 'A3BU92XQ2M0FQV': [], 'A3BWTFXS9CXVAE': [], 'A3BXCNI6BG5GCW': [], 'A3C2F0Y7G5FRW3': [], 'A3CBKKG14IB1KH': [], 'A3CQ0NMUJ9TODP': [], 'A3CUAESGA4K7FU': [], 'A3CXM8XQ5Q1KPP': [], 'A3D0FFKCWXN2LR': [], 'A3D1IGUMS62SNU': [], 'A3D1VPTQGDS7H3': [], 'A3D4BNTGWVUMYY': [], 'A3DKARAF791Z5X': [], 'A3DTSBINBC9T1Y': [], 'A3DXQ86N43AUK3': [], 'A3DXW3542E4QUC': ['B00149XKOY', 'B00S4RUGI2', 'B000P4A376', 'B00S4RT3GI', 'B00NZD6UGM', 'B0176VVMSY', 'B01EY46Y0W', 'B000FYRCQQ', 'B01DTYD0C8', 'B0152ZXNLK'], 'A3E9HGSGQCU4CT': [], 'A3EAHHQ7KV8LFG': [], 'A3EJS66CXBQLE8': [], 'A3ENBUF1TIQR5K': [], 'A3EZHDCUB7I4KM': [], 'A3F1C4MOB3X5XL': [], 'A3F6V5A2SFES04': [], 'A3FDEHXOYLD1AC': [], 'A3FGDP5PT4SPLK': [], 'A3FGWJLDNTJWED': [], 'A3G1X7LFBAPCUJ': [], 'A3GCKFO3G4AHLF': [], 'A3GGSN44XCR1LP': [], 'A3GPMU8E282AUW': [], 'A3GRQ9WMP4OXFE': ['B00E4MNPBQ', 'B019558ZRA', 'B00J8IJVZK', 'B004VH2OSO', 'B01G5ZLJEO', 'B00J5JWFR8', 'B014YYVYR0', 'B01HIE3EK8', 'B00ATRBBC0', 'B01CXPUR8Y'], 'A3GWKJFBX8ZKT6': [], 'A3H8Z7JS7XJHJJ': ['B00SC496RY', 'B00NO89SC6', 'B00PJ16ZC2', 'B0007506SE', 'B00VRWVFAO', 'B01ENS6XDC', 'B00OO1NM8S', 'B002N5MI3W', 'B018T3KNPQ', 'B00ODVZ4H6', 'B016Q3F360', 'B00KXL8ZF8', 'B00161HFP0', 'B01AN2AH1G', 'B00IPHNRUU', 'B00FAVESXE', 'B00RVEM6QO', 'B01HCHBX0O', 'B00M2R1HGA', 'B00Q2BIO4U'], 'A3HRUR5VRFZ09F': [], 'A3IGRPW3T3WYYQ': [], 'A3J1T4IGQLKKMB': [], 'A3J9IGXNOJR2BL': [], 'A3JA23Z053GQH': [], 'A3JCDPKW3RY4RN': [], 'A3JEQJCEMX20GI': ['B009BNE828', 'B00EFOQ44I', 'B007QX2KLG', 'B0084YJAEG', 'B008BMMNRM', 'B00JNUC5Q0', 'B00B8Q96KA', 'B006H8X3JO', 'B014SQWTW8', 'B01BY1V18S', 'B01CGLIDDQ', 'B01FRR147I', 'B01CGLIDEA', 'B00IZ9S02I', 'B01983EZIM', 'B01BHL794U', 'B00CHJOJIG', 'B01CZJT36K', 'B01CZJT374', 'B01FX00OXE'], 'A3KFRJBKYYNED7': [], 'A3KS7QCK708PRV': [], 'A3KYSCD09GNSUT': [], 'A3LA1YKU7MU28G': [], 'A3LEZ2F3IJC8PI': [], 'A3LIUDVZL87BJ1': [], 'A3LW4UWD5IH59X': [], 'A3LX43D34SINN3': [], 'A3LZ31BL10WT5Y': [], 'A3MAKZCODKKTYI': [], 'A3MFCMTXMF9B6W': [], 'A3MKAAS1OCULM6': [], 'A3MOSFTVDLAPDQ': [], 'A3MSPZTFP55OAG': [], 'A3MYAEQWFLNGT7': [], 'A3N4SR54KR77RK': [], 'A3NVFNLI1D4JUI': [], 'A3NYG8M131X9CM': [], 'A3OAQJCQBNF2JV': [], 'A3OCZRK8OEGZKL': [], 'A3OIDZP7AI0URM': [], 'A3OVOP3ZAF1EZ2': [], 'A3P3RV0CUR0VRQ': [], 'A3P8Z0J9AH92IZ': [], 'A3PJ22YDBOO8DN': [], 'A3PLMGKX9OQWOY': [], 'A3QL4UXK2Z5Q7T': [], 'A3QLWWO4V4PFMJ': [], 'A3QUUP6DYHF9YC': [], 'A3R7ZWTFN19KIX': [], 'A3RCVP2TSCL409': [], 'A3RUEIK67SFBFQ': [], 'A3SG2GXNRU6AO8': [], 'A3SL5YEUG12X9A': [], 'A3SME2XHYE99M5': [], 'A3T0BPK8JD6MD5': [], 'A3T2OTYYUYGLP0': [], 'A3T35MARIMRX9M': [], 'A3T9MTY43BVAL8': [], 'A3T9WXXE7EWNT8': [], 'A3TELGW4O61A61': [], 'A3TGG91X7W9SE8': [], 'A3TSVNG02WZYSW': [], 'A3U32YT7BSZ0KJ': [], 'A3UAJ5O4VR3IQ3': [], 'A3UBQFB24OY57': [], 'A3UCBR5T51RVRF': [], 'A3URWO9TFNH3IW': [], 'A3V81XSQIPRKO8': [], 'A3V9LE9I6Z5AF3': [], 'A3VEZWV624JM4O': [], 'A3VFDFSQ8X74WJ': [], 'A3VXSKW11C3301': [], 'A4INUX2JA7KE2': [], 'A4IQXCCXDEAKW': ['B001F51Q66', 'B001G7PMPE', 'B003XDQ76M', 'B00006K14Y', 'B0094G39KE', 'B001F51Q3Y', 'B001F51Q52', 'B001F51RBU', 'B000GGHRYA', 'B001F51RAG', 'B014Q96PI6', 'B014Q96T8W', 'B014Q96QNK', 'B00NPF8HQQ', 'B00MP12J4W', 'B00KAI9Q7A', 'B00MP13SPQ', 'B00MP12CQC', 'B00MP13XCO', 'B013J0FOI0'], 'A4PZHPMLBS8T3': [], 'A4SRPWVKZ8MBC': [], 'A4V3S90H5OZTV': [], 'A4VQ44JM97RBL': [], 'A5ECS1R7F1TUD': [], 'A5LV53PMV1X6R': [], 'A674HJEQGJ5R9': [], 'A679PFWSVAY0B': [], 'A6IX0T5Z4NEXG': [], 'A6JVX3BIR03UT': [], 'A6P34Q7M983DN': [], 'A72IXFDV3HVU6': [], 'A74XHLD33IB9S': [], 'A7EG6541KYNIU': [], 'A7HS9Y95Y9BI6': [], 'A7JUHUYLXIUVQ': ['B00CCNSPFU', 'B0058A4ZOE', 'B00CFCUZME', 'B00PCAMHCC', 'B00D1ZKB5K', 'B01AM3TGY0', 'B00124SH1W', 'B019QW1VCI', 'B001R1DVNO', 'B019T6NVBU'], 'A7KQ3EGH8QTDS': [], 'A7SILTHEWXQ8T': [], 'A7Y4ETTLARUGI': ['B00JGQRNB8', 'B00LY4916K', 'B00027D5H6', 'B00U0Z1M98', 'B00AL0TXQ6', 'B00N59LJWQ', 'B000H74016', 'B003IP697W', 'B019U4NMW4', 'B00JF2GVWK'], 'A7Z2BG3284EE8': [], 'A8FMILLDHAI14': [], 'A8JUUA4GHIAMI': [], 'A8LVPPXFVYGVU': [], 'A8ZUDRNPFB0FU': [], 'A9BXB2XYAW169': [], 'A9LOWDS5H848B': [], 'AA3TPN2ZXE9TE': [], 'AAD3T3WYTF1BR': [], 'AAJ1IA9SFH4IG': [], 'AAT4JCLA3VGRZ': [], 'ABNE90UVC4BMT': [], 'ABSMQNX2PDSWH': [], 'ABWCUEDFH8W5H': [], 'ABYOL1GQA39OB': [], 'AC0X1OVDMJX9': [], 'ACCY5NWUNEC87': [], 'ACE1ZIOI3U6PY': ['B0091OCA86', 'B00Q6761XG', 'B00UZH5OLI', 'B01CGX22YA', 'B00QWCUT7E', 'B00WQAM2CG', 'B018DSX034', 'B00DBDAU08', 'B00WDPM2M4', 'B00KU41SK2', 'B00KGLVXPE', 'B00KGMSSQA', 'B00KGO7R8S', 'B00KGMPJX0', 'B00KBEQYGE', 'B00K6WE6DO', 'B00KGKW5AM', 'B019EUWONW', 'B00S7L4E2Y', 'B004ZCBELI', 'B00R8IXO2I', 'B00MTXWSG0', 'B00102JGFC', 'B006321K8K', 'B00B4FRIUU', 'B00B4FUJPG', 'B00APOGVJA', 'B003GS6W5K', 'B017T1JTWM', 'B015X3ODWE'], 'ACLAKWV2EFFB5': [], 'AD9O852KPYLHY': [], 'ADDXT6NXD9GQ7': [], 'ADG8D8X6P9X7M': [], 'ADR4IE33O06IJ': [], 'ADV1MNMPVS17V': [], 'ADYRHTPM2T2SE': [], 'AE6VHWVRXHU19': [], 'AEKJTREHL41OE': [], 'AEP7KPEZWI7VY': [], 'AETOYW0R5VN0X': [], 'AEZBSOFLB44RG': [], 'AFE9H6ABXM735': [], 'AFMQ7BBR4FYMB': [], 'AFY8EIWAT6H8J': [], 'AG0867QGE3R2B': [], 'AG3T3ILPXFL3H': [], 'AG74ZKO3BG57J': [], 'AGORXWI6K2RIR': [], 'AGRZQOBCF8H87': ['B00PKXAAPW', 'B00JW2722Q', 'B00D3CUO9O', 'B00FGSJ20K', 'B00BYMZWQA', 'B01GR1QP4K', 'B019HD1YVE', 'B01DSQRXD4', 'B00916S6W8', 'B01ANCFIFG'], 'AGTD0T9R78YLG': [], 'AGYIYIVZHBI60': [], 'AHGNU4UWGATOH': [], 'AHYRXYR235TWH': [], 'AIB7HX2UC3WHM': [], 'AITF34BGBMVJJ': ['B01HCAHIJQ', 'B01HCAG536', 'B01HCAFMVW', 'B01HCAFRTO', 'B01HCAG8ME', 'B01HCAGJ8W', 'B01FJ1WF7A', 'B01HCAGIEM', 'B01HCAGOLY', 'B01FKZCSXQ'], 'AIU7HYQIC5D95': [], 'AJHSB0LT8NKP4': [], 'AJYMJEC6B7V52': [], 'AK4VANLR5UK95': [], 'AK7YIZE6ZZ1N9': ['B00MP12CQC', 'B00MP12J4W', 'B00MP13TZ0', 'B00MP13SPQ', 'B00MP13XCO', 'B014Q96PI6', 'B014Q96T8W', 'B00HQNLTYK', 'B00HQNLT7C', 'B014Q96QNK'], 'AKHSKD91MQ9DP': [], 'ALUZH689LQE6K': [], 'ALWLZC3GRRXPN': [], 'AM1KUDVTKXIAQ': [], 'AM9HBLGAPZQR7': [], 'AMA98TY969A1T': [], 'AMLDY4QY4HV0D': [], 'AMVZ9HW23Y42N': [], 'AN3QZR3OD7SFO': [], 'ANC6FN6T8JBB2': [], 'ANDGVKQ15NCZM': [], 'ANFUWUOC7EJKR': [], 'ANG7MOYBTWQE6': [], 'ANJ6Y9G0B4TM8': [], 'ANR73TPVBCQ9K': ['B012CR4ULI', 'B00E4J2C6I', 'B012CR9NNI', 'B00MMY3PH2', 'B018T3KNPQ', 'B0009ION3S', 'B004USS83O', 'B016Q0WJM4', 'B0155VG3I6', 'B01CC0EYXE'], 'ANT034IX5ZPI9': [], 'AOB2Y1KJQG7K7': [], 'AONHG4PDUQ0D6': [], 'APA9SALOTTBM6': [], 'APARJQGAD0J4C': [], 'AQ5PKYF0FJA4B': [], 'AQCQQYEUHUX3M': [], 'AQYL4TDY2HU8Z': ['B0044UI6ZS', 'B018HMDKNG', 'B013HL259M', 'B00M1YS96U', 'B00OAK5J70', 'B017JQFAYI', 'B0169QLUDO', 'B00ECH7RTO', 'B0052ZNLE0', 'B01HIUEEHO'], 'AR9Y0CM5B174': [], 'ARLN791TA1RV7': [], 'AS8T77HTF9IHW': [], 'ASGIVOW34XNQS': ['B000FT88DC', 'B000J38PQO', 'B01E1Q2HX6', 'B000WI50IM', 'B0002Z8MYY', 'B001W2P11S', 'B00TKIFA0S', 'B000S38RPY', 'B0001F3ULK', 'B01EB8KMVI', 'B000NJJAUE', 'B01FV4FHO8', 'B009Z30JVS', 'B00SO32OQS', 'B00G0U5FQI', 'B00JU41QAU', 'B00REWBX80', 'B007NIR2C6', 'B00IVAGL3Q', 'B00KEO35CM', 'B01F9XGGXW', 'B01HG1BF9A', 'B0143XMKRK', 'B000KE1AWS', 'B017SEE39Y', 'B016NNOLT8', 'B01EZHWKVK', 'B00T5A0M7M', 'B015PECJ7M', 'B01EBIY7HS'], 'ATJRZUXNWAWIK': ['B01E68ABUA', 'B00PCJYO42', 'B006K5542I', 'B01GOX2LFI', 'B005XBJETY', 'B01AVFI6OU', 'B00QF1HR8Q', 'B00UC4PRTS', 'B00ZNMQOIM', 'B0016Q50SY'], 'ATP2UCHTR7QMZ': [], 'ATR9J7TYR1KVL': [], 'ATVP6QJLS27EN': [], 'AU03W1V42994X': [], 'AU1BVXGV2KO8I': [], 'AU2JWZMFEVAH5': [], 'AU3MVNMVFSIM': [], 'AUKMWTDK16PAP': [], 'AUWJT1DM7SG2D': [], 'AV0O5NWF2NKDF': [], 'AV2MC7NNTMKTF': [], 'AVC89473DX6XU': [], 'AVFBQDR2KRNK6': [], 'AVIMJH2FF6QCH': [], 'AVO5FL5T9EZSR': [], 'AVQ0V2MIW2Z5K': [], 'AVWSUUBWD3RK4': [], 'AWJFUVK3064HX': [], 'AXM9OKKHRR4RP': [], 'AXPZI9N8HVHYO': [], 'AXQ57AZLKLPCQ': [], 'AXQS1B3WVRHQV': [], 'AXS7NH3GDN7EE': [], 'AY4F95T0JSTZ2': [], 'AYG63OK9TNBNP': [], 'AZE64W03EUJA4': [], 'AZECTAHZICNW5': [], 'AZEGZXCFTLSQB': [], 'AZEKC7DEXXJD7': [], 'AZFGSCB0S59LQ': [], 'AZHS42HV4FKKA': []}\n",
            "{'A100XQFWKQ30O2': [], 'A103T1QOGFCSEH': [], 'A106UKKSJ2KXPF': [], 'A10A7GV4D5A11V': [], 'A1119JJ37ZLB8R': [], 'A113UOOLBSZN52': [], 'A12M4U7WK4ALCR': [], 'A12T8YTW6VWT7S': [], 'A1364JXGKB46MM': [], 'A137DALOQFKBTI': [], 'A13FEZ3WV7S2EY': [], 'A13IV4I1B0RXMG': [], 'A13JU88JAHN72I': [], 'A13K55R6VH1OOD': [], 'A13P7VFU075A': [], 'A13SWYE4QLB6NG': [], 'A13ZTQ0Q4ATA41': [], 'A142EDN04OD62U': [], 'A142I22FIC8MZK': [], 'A14834QTII5TLT': [], 'A14A447VPACTBC': [], 'A14AP6MN5XO6LB': [], 'A14CLF25IX25US': [], 'A14LYXC3HTBAHI': [], 'A14VUW4KZ34EOE': [], 'A14Y32P26G9YL': [], 'A157T25PBS7MX4': [], 'A15HZDSERD85C8': [], 'A15JJ8J1FGADIX': [], 'A15ZCL70JXXH89': [], 'A1617KN2IAWZ6J': [], 'A16E0O88262HKA': [], 'A16NSZ58PTVIYF': [], 'A16UGDXRTDLJG5': [], 'A16X9HR3UFQQXY': [], 'A16Y7V1CZCWKFV': [], 'A174YOBOSW9WDN': [], 'A1786SKRAJXH86': [], 'A17K2BUZ20WD2': [], 'A17LYRFV645L0V': [], 'A18LNGVXDZBTUR': [], 'A19503XX7GU6J2': [], 'A19HVHRZDYFEOP': [], 'A19JM38B861BO4': [], 'A19KGY3W1P0MHT': [], 'A19KJPOF3QOJ24': [], 'A19U5RT4Q8Q1T6': [], 'A1AQNQUNX8B6JT': [], 'A1ARU0IN6RUFFD': [], 'A1BB4635KSKDMV': [], 'A1BCC7X6KRTBG0': [], 'A1BPJ56BXENC7': [], 'A1C0RI6W65FC8B': [], 'A1C60LJGZVEK27': [], 'A1CB2SMS3TD44Z': [], 'A1CNSU8P68CPLT': [], 'A1CSDWBYUJBCJZ': [], 'A1CTNNVIYHO25P': [], 'A1CTQF97HFYOZB': [], 'A1D5C2H9UFZHPU': [], 'A1D5UVH72Z6NJ1': [], 'A1DAUVZRVSLLNW': [], 'A1DCZ9882PXLVB': [], 'A1DZ63D35BNT86': [], 'A1E0QCKB4R2X8X': [], 'A1E76OZZ5YUWVA': [], 'A1EBHZPAYMILW9': [], 'A1EJVNGBY5GM5I': [], 'A1ER0356V2DSKW': [], 'A1EY751AUVO5NZ': [], 'A1EZFX1TRHSAJX': [], 'A1F08GM4B97FV': [], 'A1F6EFMBK795DJ': [], 'A1FC8Y896NZP4T': [], 'A1FKIAKVOBNN7Y': [], 'A1FKUBRPLG6Y8I': [], 'A1G2HL4W8B3TA0': [], 'A1G8Z9IKJ0BD1M': [], 'A1GEJ55RJGD7JW': [], 'A1GIYGD23YIDTN': [], 'A1GLG2IZBZHRAJ': [], 'A1H1T82FPO20DN': [], 'A1H7JDZ9BKTKGC': [], 'A1HBROZPSV5KT6': [], 'A1HBXMUIHTAIU2': [], 'A1I32A4SA9W2L2': [], 'A1IDJ6KR8CQV9I': [], 'A1II0TTUUE2C7Y': [], 'A1ILEZFIVOU0EP': [], 'A1ITJ5M7I9G7FR': [], 'A1IWTXM1SJWHDN': [], 'A1J2NTTE63GNG2': [], 'A1JRREJ5D62LFF': [], 'A1KGMTEXL70WF6': [], 'A1KWUQZJ1Z6MN2': [], 'A1LXJ8XCGNBXOF': [], 'A1M8YMS915ZK0B': [], 'A1NDRR3G9SJF18': [], 'A1NE6K8PXW780O': [], 'A1NEG0FRW5FDBL': [], 'A1NN82RWB6PXJW': [], 'A1NY67EVWD6CD6': [], 'A1OB41VQHXZ0R8': [], 'A1OJ2IXX8F7Q7X': [], 'A1OTIUDE7LWAGT': [], 'A1P1OHYJOOZX5P': [], 'A1PFDA9SL15S4O': [], 'A1PKBKALGLSX0Z': [], 'A1PMLXHE863GR6': [], 'A1PR178735XC70': [], 'A1PXO67EUM5HJQ': [], 'A1QHS58JVFLF3I': [], 'A1QPKRHCAOQVZ5': [], 'A1R2TTULP0Z2BM': [], 'A1R8GBYBJWWWU0': [], 'A1RAXJN2Q4V20X': [], 'A1RCMCAJR2LJA4': [], 'A1RE2XA5HQD1D3': [], 'A1RMLPJ1PF8LGV': [], 'A1RX2ODQRQZVSI': [], 'A1S3NMNTSO6GW': [], 'A1S6OQV823B53J': [], 'A1SA3N793WT2LM': [], 'A1SA932MLERVQY': [], 'A1SCZBXGPJ2615': [], 'A1SMXRCNRO4ZQM': [], 'A1T1N2585E1T0D': [], 'A1TEKLMF4V1X2C': [], 'A1TF44D9KYAD60': [], 'A1TGP1VTM3KCTI': [], 'A1TK5M6EM3GS3C': [], 'A1TO3GV14TGF2R': [], 'A1TP9JHTIY468V': [], 'A1UAOE8KO7Q1DZ': [], 'A1UDCDY6ZNE83T': [], 'A1UUNKRU1DTZTL': [], 'A1V0UJQ4XGAJ3H': [], 'A1VBZLO2JGYU1B': [], 'A1VC6YCAFKV6Q': [], 'A1VVEX78B2TYBX': [], 'A1VVQ2DFL0QLXF': [], 'A1VYWSQ2OXLH98': [], 'A1WEFBEJ7OHSVZ': [], 'A1WOX40GUAFDKW': [], 'A1WSZED2O5MA5T': [], 'A1XBJBT6HORBLA': [], 'A1XHN6JF8A8W69': [], 'A1XWCTARAQ0679': [], 'A1XZJ85PKMAZP0': [], 'A1YALF6PWOMS6S': [], 'A1YEO5KEW7M2GF': [], 'A1YQ33635DJEG5': [], 'A1YSAFP6T3JZ1C': [], 'A1YTPCNXQ2LJ5Z': [], 'A1YVXZK51DEDPC': [], 'A1Z3GE09RDY6O7': [], 'A1Z6IPI0G3QIUR': [], 'A1ZVXL7K0XY3S6': [], 'A1ZXYITUZM3Q6A': [], 'A202BVEB76NTMK': [], 'A205S0BTPEFI0I': [], 'A20MSUD02BETH2': [], 'A20P2XESU3G3EC': [], 'A20QY357E6SAF': [], 'A20SJ2793OUCPW': [], 'A20T7NNNUHH60H': [], 'A21JL9NVA7KEMC': [], 'A21M4N08F3EU5J': [], 'A21NUBJVBS230S': [], 'A21OELUKDF2E57': [], 'A21XQP90LEND9R': [], 'A21YO11OY4KATO': [], 'A220EHDBIGBL30': [], 'A224YJVNU30DVM': [], 'A22A1B25VBD0YO': [], 'A22EWIMT2GUTTL': [], 'A22EZJLTPINCFS': [], 'A22QJRB86RF6O1': [], 'A2320AUCHA95U2': [], 'A232IJ75I4KP9C': [], 'A23GTKDW92ZPP2': [], 'A23O1B8IVSYKMO': [], 'A23VR3KT0TPG83': [], 'A24HCM5QV0ZTJ5': [], 'A24ZE4O3OQMSP0': [], 'A255E6ZWUBMEJJ': [], 'A258D00BRNHJ77': [], 'A25TLD8KIU807H': [], 'A26434CRUTADT5': [], 'A26AT96096UOEZ': [], 'A26RKZDM4DK8OQ': [], 'A274IW68565M0U': [], 'A286OWYO1BDT52': [], 'A288UAQLON8FK2': [], 'A28E3FNV1BYC94': [], 'A28GO11F387SOX': [], 'A28H0PFALTML0I': [], 'A28OZKV4ZYZX42': [], 'A28P7FF1TVPG1K': [], 'A28Q7C1FAIZGLV': [], 'A29834GBB4DOP1': ['B01D8DY20O', 'B005NJUD9G', 'B00VEYJQNS', 'B0164D2SME', 'B01CJNZKZK', 'B00S14K494', 'B01CM7HQAA', 'B016V4GUUW', 'B015JE0T2A', 'B01AMG2GAI'], 'A29HQ60YC1RG1P': [], 'A29MENRU87PET0': [], 'A29PZKXDCQFTYW': [], 'A29SD3TFGX6Q34': [], 'A2A0MIOWIW2SB8': [], 'A2A8ECI6ABJBMA': [], 'A2AAQWBJJTK3E1': [], 'A2AE0E0H463YL6': [], 'A2APG6OZXU4QIZ': [], 'A2BDB427ROEP7H': [], 'A2BHJO8WOGMW6E': [], 'A2BOSA30FCF6G8': [], 'A2BU6N5956T9NH': ['B00XDAM66U', 'B0069G3J0W', 'B00DWKWE22', 'B00KGGYNME', 'B002NSB920', 'B00UMOFM8E', 'B01GQDZWES', 'B007L88SPI', 'B00KBEQLBC', 'B00QF1L8CC'], 'A2BUZ308P92OYA': [], 'A2C1F859F9V1SL': [], 'A2C8YINPNRQOAU': [], 'A2CDQOF7WHUYKJ': [], 'A2CEEE0IK3LKN1': [], 'A2CZVE6ORV87C5': [], 'A2DD6RH1AF0PLI': [], 'A2DFOCWUKJX3PT': [], 'A2E8WG5GRZGMXU': [], 'A2ESQAPIGR2TJF': [], 'A2EUQ4ESAB2N6A': [], 'A2EZXF5YGYTOWN': [], 'A2F0VQQLSF558D': [], 'A2F3QV40SONN60': [], 'A2F95NSPD4XEEU': [], 'A2FA2J1JT12N7J': [], 'A2FFUJ5D4CMJ4L': [], 'A2FLLYV6Z8UQ26': [], 'A2G1XJ25DR7PVF': [], 'A2G5KJ0CZE65ZD': [], 'A2GFPTQ4VWDX96': [], 'A2GJLNRQTVUNOF': [], 'A2GOFJ3OZZUZ3H': [], 'A2GV0FE30O6M67': [], 'A2H3W11661MWDA': [], 'A2H7FD5GQMJXAQ': [], 'A2H7VSYLKGKLLJ': [], 'A2HFAX39PMLIGH': [], 'A2I4O72AAE1T1T': [], 'A2I868XUY96VWA': [], 'A2IK039KMC8UP1': [], 'A2IMJV0CQMZLGC': [], 'A2INWR0T7A7UN5': [], 'A2IOBG1ERS4JP3': [], 'A2IRPQ7DXQ9YIN': [], 'A2J4WOR87ELFBH': [], 'A2JCBLTLYDPQLW': [], 'A2JEH2NKM1Z8CQ': [], 'A2JXZSR7R85KX4': [], 'A2K7XZCFYGZH0O': [], 'A2KO4HGLWB57LI': [], 'A2KVN4XKFJH0I8': [], 'A2LM47GK1W7RRR': [], 'A2LSOMD2X9KCCH': [], 'A2LYTBRWFQJMKM': [], 'A2M4YSOJZELJ6N': [], 'A2MAZK8XSIDXPF': [], 'A2MDIPJ7MS0MUJ': [], 'A2MGO3WV3SX7X': [], 'A2MLV3I5MMJ2RA': [], 'A2MPSHMC0U29AV': [], 'A2NI47L1B1RXSG': [], 'A2NJQZBE8TSUYO': [], 'A2NWTETCSLOEQN': [], 'A2O4DMC8M5JFHG': [], 'A2O823CIB99X95': [], 'A2OT3011J8E1ZP': [], 'A2OXIHJW4K9NKE': [], 'A2P6L9MQK99U36': [], 'A2PB6LYMRA7Z9V': [], 'A2PEJEOUE9MNA6': [], 'A2PIBK3EOG5TBK': [], 'A2PY1DBGV9FQA2': [], 'A2Q5UOQ4L1BOB9': [], 'A2QE1WIYFY0HAP': [], 'A2QP73U21FHJZI': [], 'A2QV1YJODH28QP': [], 'A2RAISC8UEEBK9': [], 'A2RDNAR2R66DKD': [], 'A2RXAD7UZ4VFT6': [], 'A2S47NK970GKD9': [], 'A2SMFKDH22FMA3': [], 'A2SOH4QHL5DZ6D': [], 'A2SQIQZUBEAJR3': [], 'A2SWEHEK2BMPM8': [], 'A2SYZ28NVJZ4R1': [], 'A2T0AMZZLASKKV': [], 'A2TCLY6N04N9D7': [], 'A2TW5FC72PI7SE': [], 'A2UAC8RKSPUIKH': [], 'A2UX00W1OX5A80': [], 'A2V88AD0XHE2IE': [], 'A2VC9R3XCFOEP1': [], 'A2VLCD1OWKXBW0': [], 'A2VTFDQ1DZN7UI': [], 'A2WHTNQ939BS71': [], 'A2WQGKM49J8UYT': [], 'A2WX2YLLHJDLX7': [], 'A2X4BZH61VJH5M': [], 'A2XEM0Y2PBNYK3': [], 'A2XFJ8CTY7VDNN': [], 'A2XTIQTNDTY6IA': [], 'A2XVM7UW32TYJ4': [], 'A2XY3CJ3ZCAD03': [], 'A2XYR0XUSOOBKN': [], 'A2Y1J1AKXDLR1': [], 'A2Y88AU2Y58W78': [], 'A2Z6RKQQUX4RJA': [], 'A2ZBZF2MUG5BMT': [], 'A2ZFTLMOAS9YS9': [], 'A2ZIIOGLNJDGAW': [], 'A2ZKSKEG5ADC67': [], 'A2ZZKY1V6M940H': [], 'A31LANQ03TDCXY': [], 'A323D529OO2E1G': [], 'A3254BNN69CL47': [], 'A327I3S4ZCZYBV': [], 'A32D5I46E15TEC': [], 'A32H6TQKJ1PQTP': [], 'A32KYN14BUANDF': [], 'A32OQFYMJ18HD6': [], 'A333LLJ35S8DVV': [], 'A33M6H443E78K3': [], 'A33S6R9E8SJQBP': [], 'A34DAQYDWYMVSG': [], 'A35F9VHYWAFR8J': [], 'A35F9XOEGELEWC': [], 'A35PB7968I55RI': [], 'A35RIL0AVMMXXL': [], 'A35Y5NLC3UEUQD': [], 'A367NSWV6NUSL1': [], 'A36I89SEZ432XE': [], 'A375WSDCO30KT9': [], 'A37G41T4DD51AH': [], 'A37M369VIVDDVJ': [], 'A37OPVPXMWHJJK': [], 'A37WMXX147RL1X': [], 'A37XPPIGUTR4LE': [], 'A388NSX468EY1E': [], 'A38GODWWMRN5IP': [], 'A38J6ZI0XZOY54': [], 'A38KP6TI3BUIM6': [], 'A38KUK8INKLRVW': [], 'A38OH5OTHDIENK': [], 'A38QGF4YG5YLUX': [], 'A3909LKTROS8XZ': [], 'A3961EO6PXRSV4': [], 'A39LZUDABR584J': [], 'A39PTGNQVCNU44': [], 'A39VI1UOID3TYE': [], 'A39YNT3CHM2I0Z': [], 'A3A3FMJO4E1E16': [], 'A3B99K4E030SZQ': [], 'A3BE6JK97CYAGA': [], 'A3BLE5G96342IP': [], 'A3BNG9PTUPB4QO': [], 'A3BPFL7PM0EX1K': [], 'A3BT1WLPENXMD6': [], 'A3BU92XQ2M0FQV': [], 'A3BWTFXS9CXVAE': [], 'A3BXCNI6BG5GCW': [], 'A3C2F0Y7G5FRW3': [], 'A3CBKKG14IB1KH': [], 'A3CQ0NMUJ9TODP': [], 'A3CUAESGA4K7FU': [], 'A3CXM8XQ5Q1KPP': [], 'A3D0FFKCWXN2LR': [], 'A3D1IGUMS62SNU': [], 'A3D1VPTQGDS7H3': [], 'A3D4BNTGWVUMYY': [], 'A3DKARAF791Z5X': [], 'A3DTSBINBC9T1Y': [], 'A3DXQ86N43AUK3': [], 'A3DXW3542E4QUC': [], 'A3E9HGSGQCU4CT': [], 'A3EAHHQ7KV8LFG': [], 'A3EJS66CXBQLE8': [], 'A3ENBUF1TIQR5K': [], 'A3EZHDCUB7I4KM': [], 'A3F1C4MOB3X5XL': [], 'A3F6V5A2SFES04': [], 'A3FDEHXOYLD1AC': [], 'A3FGDP5PT4SPLK': [], 'A3FGWJLDNTJWED': [], 'A3G1X7LFBAPCUJ': [], 'A3GCKFO3G4AHLF': [], 'A3GGSN44XCR1LP': [], 'A3GPMU8E282AUW': [], 'A3GRQ9WMP4OXFE': [], 'A3GWKJFBX8ZKT6': [], 'A3H8Z7JS7XJHJJ': [], 'A3HRUR5VRFZ09F': [], 'A3IGRPW3T3WYYQ': [], 'A3J1T4IGQLKKMB': [], 'A3J9IGXNOJR2BL': [], 'A3JA23Z053GQH': [], 'A3JCDPKW3RY4RN': [], 'A3JEQJCEMX20GI': ['B01CGLIDDQ', 'B01FRR147I', 'B01CGLIDEA', 'B00IZ9S02I', 'B01983EZIM', 'B01BHL794U', 'B00CHJOJIG', 'B01CZJT36K', 'B01CZJT374', 'B01FX00OXE'], 'A3KFRJBKYYNED7': [], 'A3KS7QCK708PRV': [], 'A3KYSCD09GNSUT': [], 'A3LA1YKU7MU28G': [], 'A3LEZ2F3IJC8PI': [], 'A3LIUDVZL87BJ1': [], 'A3LW4UWD5IH59X': [], 'A3LX43D34SINN3': [], 'A3LZ31BL10WT5Y': [], 'A3MAKZCODKKTYI': [], 'A3MFCMTXMF9B6W': [], 'A3MKAAS1OCULM6': [], 'A3MOSFTVDLAPDQ': [], 'A3MSPZTFP55OAG': [], 'A3MYAEQWFLNGT7': [], 'A3N4SR54KR77RK': [], 'A3NVFNLI1D4JUI': [], 'A3NYG8M131X9CM': [], 'A3OAQJCQBNF2JV': [], 'A3OCZRK8OEGZKL': [], 'A3OIDZP7AI0URM': [], 'A3OVOP3ZAF1EZ2': [], 'A3P3RV0CUR0VRQ': [], 'A3P8Z0J9AH92IZ': [], 'A3PJ22YDBOO8DN': [], 'A3PLMGKX9OQWOY': [], 'A3QL4UXK2Z5Q7T': [], 'A3QLWWO4V4PFMJ': [], 'A3QUUP6DYHF9YC': [], 'A3R7ZWTFN19KIX': [], 'A3RCVP2TSCL409': [], 'A3RUEIK67SFBFQ': [], 'A3SG2GXNRU6AO8': [], 'A3SL5YEUG12X9A': [], 'A3SME2XHYE99M5': [], 'A3T0BPK8JD6MD5': [], 'A3T2OTYYUYGLP0': [], 'A3T35MARIMRX9M': [], 'A3T9MTY43BVAL8': [], 'A3T9WXXE7EWNT8': [], 'A3TELGW4O61A61': [], 'A3TGG91X7W9SE8': [], 'A3TSVNG02WZYSW': [], 'A3U32YT7BSZ0KJ': [], 'A3UAJ5O4VR3IQ3': [], 'A3UBQFB24OY57': [], 'A3UCBR5T51RVRF': [], 'A3URWO9TFNH3IW': [], 'A3V81XSQIPRKO8': [], 'A3V9LE9I6Z5AF3': [], 'A3VEZWV624JM4O': [], 'A3VFDFSQ8X74WJ': [], 'A3VXSKW11C3301': [], 'A4INUX2JA7KE2': [], 'A4IQXCCXDEAKW': [], 'A4PZHPMLBS8T3': [], 'A4SRPWVKZ8MBC': [], 'A4V3S90H5OZTV': [], 'A4VQ44JM97RBL': [], 'A5ECS1R7F1TUD': [], 'A5LV53PMV1X6R': [], 'A674HJEQGJ5R9': [], 'A679PFWSVAY0B': [], 'A6IX0T5Z4NEXG': [], 'A6JVX3BIR03UT': [], 'A6P34Q7M983DN': [], 'A72IXFDV3HVU6': [], 'A74XHLD33IB9S': [], 'A7EG6541KYNIU': [], 'A7HS9Y95Y9BI6': [], 'A7JUHUYLXIUVQ': [], 'A7KQ3EGH8QTDS': [], 'A7SILTHEWXQ8T': [], 'A7Y4ETTLARUGI': [], 'A7Z2BG3284EE8': [], 'A8FMILLDHAI14': [], 'A8JUUA4GHIAMI': [], 'A8LVPPXFVYGVU': [], 'A8ZUDRNPFB0FU': [], 'A9BXB2XYAW169': [], 'A9LOWDS5H848B': [], 'AA3TPN2ZXE9TE': [], 'AAD3T3WYTF1BR': [], 'AAJ1IA9SFH4IG': [], 'AAT4JCLA3VGRZ': [], 'ABNE90UVC4BMT': [], 'ABSMQNX2PDSWH': [], 'ABWCUEDFH8W5H': [], 'ABYOL1GQA39OB': [], 'AC0X1OVDMJX9': [], 'ACCY5NWUNEC87': [], 'ACE1ZIOI3U6PY': [], 'ACLAKWV2EFFB5': [], 'AD9O852KPYLHY': [], 'ADDXT6NXD9GQ7': [], 'ADG8D8X6P9X7M': [], 'ADR4IE33O06IJ': [], 'ADV1MNMPVS17V': [], 'ADYRHTPM2T2SE': [], 'AE6VHWVRXHU19': [], 'AEKJTREHL41OE': [], 'AEP7KPEZWI7VY': [], 'AETOYW0R5VN0X': [], 'AEZBSOFLB44RG': [], 'AFE9H6ABXM735': [], 'AFMQ7BBR4FYMB': [], 'AFY8EIWAT6H8J': [], 'AG0867QGE3R2B': [], 'AG3T3ILPXFL3H': [], 'AG74ZKO3BG57J': [], 'AGORXWI6K2RIR': [], 'AGRZQOBCF8H87': [], 'AGTD0T9R78YLG': [], 'AGYIYIVZHBI60': [], 'AHGNU4UWGATOH': [], 'AHYRXYR235TWH': [], 'AIB7HX2UC3WHM': [], 'AITF34BGBMVJJ': [], 'AIU7HYQIC5D95': [], 'AJHSB0LT8NKP4': [], 'AJYMJEC6B7V52': [], 'AK4VANLR5UK95': [], 'AK7YIZE6ZZ1N9': [], 'AKHSKD91MQ9DP': [], 'ALUZH689LQE6K': [], 'ALWLZC3GRRXPN': [], 'AM1KUDVTKXIAQ': [], 'AM9HBLGAPZQR7': [], 'AMA98TY969A1T': [], 'AMLDY4QY4HV0D': [], 'AMVZ9HW23Y42N': [], 'AN3QZR3OD7SFO': [], 'ANC6FN6T8JBB2': [], 'ANDGVKQ15NCZM': [], 'ANFUWUOC7EJKR': [], 'ANG7MOYBTWQE6': [], 'ANJ6Y9G0B4TM8': [], 'ANR73TPVBCQ9K': [], 'ANT034IX5ZPI9': [], 'AOB2Y1KJQG7K7': [], 'AONHG4PDUQ0D6': [], 'APA9SALOTTBM6': [], 'APARJQGAD0J4C': [], 'AQ5PKYF0FJA4B': [], 'AQCQQYEUHUX3M': [], 'AQYL4TDY2HU8Z': [], 'AR9Y0CM5B174': [], 'ARLN791TA1RV7': [], 'AS8T77HTF9IHW': [], 'ASGIVOW34XNQS': [], 'ATJRZUXNWAWIK': ['B01E68ABUA', 'B00PCJYO42', 'B006K5542I', 'B01GOX2LFI', 'B005XBJETY', 'B01AVFI6OU', 'B00QF1HR8Q', 'B00UC4PRTS', 'B00ZNMQOIM', 'B0016Q50SY'], 'ATP2UCHTR7QMZ': [], 'ATR9J7TYR1KVL': [], 'ATVP6QJLS27EN': [], 'AU03W1V42994X': [], 'AU1BVXGV2KO8I': [], 'AU2JWZMFEVAH5': [], 'AU3MVNMVFSIM': [], 'AUKMWTDK16PAP': [], 'AUWJT1DM7SG2D': [], 'AV0O5NWF2NKDF': [], 'AV2MC7NNTMKTF': [], 'AVC89473DX6XU': [], 'AVFBQDR2KRNK6': [], 'AVIMJH2FF6QCH': [], 'AVO5FL5T9EZSR': [], 'AVQ0V2MIW2Z5K': [], 'AVWSUUBWD3RK4': [], 'AWJFUVK3064HX': [], 'AXM9OKKHRR4RP': [], 'AXPZI9N8HVHYO': [], 'AXQ57AZLKLPCQ': [], 'AXQS1B3WVRHQV': [], 'AXS7NH3GDN7EE': [], 'AY4F95T0JSTZ2': [], 'AYG63OK9TNBNP': [], 'AZE64W03EUJA4': [], 'AZECTAHZICNW5': [], 'AZEGZXCFTLSQB': [], 'AZEKC7DEXXJD7': [], 'AZFGSCB0S59LQ': [], 'AZHS42HV4FKKA': []}\n"
          ]
        }
      ],
      "source": [
        "def recommender(training_data, users=[], k=10):\n",
        "    '''\n",
        "    * training_data: dataframe 輸入的訓練資料集（2018-09-01 以前資料）\n",
        "    * users: [] 需要被推薦的使用者\n",
        "    * k: int 每個使用者需要推薦的商品數\n",
        "    * recommendations: dict\n",
        "      {\n",
        "          使用者一： [推薦商品一, 推薦商品二, ...],\n",
        "          使用者二： [...], ...\n",
        "      }\n",
        "    '''\n",
        "    recommendations = {}\n",
        "    '''\n",
        "    content-based\n",
        "    '''\n",
        "    ratings_trainings = training_data\n",
        "    recommendations = {user: recommend_items(metadata[metadata['asin'].isin(ratings_trainings[ratings_trainings['reviewerID'] == user]['asin'].tolist())]['title'].tolist(), k) for user in users}\n",
        "    return recommendations\n",
        "\n",
        "ratings_by_user_1 = recommender(ratings_trainings, users)\n",
        "ratings_by_user_2 = recommender(ratings_trainings_3m, users)\n",
        "print(ratings_by_user_1)\n",
        "print(ratings_by_user_2)"
      ]
    },
    {
      "cell_type": "markdown",
      "id": "04a4ca9e",
      "metadata": {
        "id": "04a4ca9e"
      },
      "source": [
        "## 結果評估"
      ]
    },
    {
      "cell_type": "code",
      "execution_count": 10,
      "id": "ee763747",
      "metadata": {
        "id": "ee763747",
        "outputId": "5f3c2d2a-e102-4cac-c41c-63339c2c88ab",
        "colab": {
          "base_uri": "https://localhost:8080/"
        }
      },
      "outputs": [
        {
          "output_type": "execute_result",
          "data": {
            "text/plain": [
              "0.0"
            ]
          },
          "metadata": {},
          "execution_count": 10
        }
      ],
      "source": [
        "def evaluate(ratings_testings_by_user={}, ratings_by_user={}, method=None):\n",
        "    '''\n",
        "    * ratings_testings_by_user: dict 真實被購買的商品資料（2018-09-01 以後資料）\n",
        "    * ratings_by_user: dict 利用訓練資料學習的推薦商品\n",
        "    * method: str\n",
        "    * score: float\n",
        "    '''\n",
        "    total = 0\n",
        "    for d in ratings_testings_by_user:\n",
        "        if d in ratings_by_user:\n",
        "            total += len(set(ratings_by_user[d]) & set(ratings_testings_by_user[d]))\n",
        "\n",
        "    score = total / len(ratings_testings)\n",
        "    return score\n",
        "\n",
        "# evaluate(ratings_testings_by_user, ratings_by_user)"
      ]
    },
    {
      "cell_type": "code",
      "execution_count": 16,
      "id": "53055ac2",
      "metadata": {
        "id": "53055ac2",
        "outputId": "ca6a0d23-37d4-410c-efdd-524652689ada",
        "colab": {
          "base_uri": "https://localhost:8080/"
        }
      },
      "outputs": [
        {
          "output_type": "stream",
          "name": "stdout",
          "text": [
            "0.0\n",
            "0.0\n"
          ]
        }
      ],
      "source": [
        "score_1 = evaluate(ratings_testings_by_user, ratings_by_user_1)\n",
        "score_2 = evaluate(ratings_testings_by_user, ratings_by_user_2)\n",
        "print(score_1)\n",
        "print(score_2)"
      ]
    }
  ],
  "metadata": {
    "kernelspec": {
      "display_name": "Python 3",
      "language": "python",
      "name": "python3"
    },
    "language_info": {
      "codemirror_mode": {
        "name": "ipython",
        "version": 3
      },
      "file_extension": ".py",
      "mimetype": "text/x-python",
      "name": "python",
      "nbconvert_exporter": "python",
      "pygments_lexer": "ipython3",
      "version": "3.9.0"
    },
    "colab": {
      "name": "sample-content-based.ipynb",
      "provenance": [],
      "include_colab_link": true
    }
  },
  "nbformat": 4,
  "nbformat_minor": 5
}